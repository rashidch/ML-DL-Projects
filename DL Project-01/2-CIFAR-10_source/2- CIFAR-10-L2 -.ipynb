{
 "cells": [
  {
   "cell_type": "code",
   "execution_count": 1,
   "metadata": {},
   "outputs": [
    {
     "name": "stderr",
     "output_type": "stream",
     "text": [
      "C:\\Users\\Rashid Ali\\Anaconda3\\lib\\site-packages\\h5py\\__init__.py:36: FutureWarning: Conversion of the second argument of issubdtype from `float` to `np.floating` is deprecated. In future, it will be treated as `np.float64 == np.dtype(float).type`.\n",
      "  from ._conv import register_converters as _register_converters\n"
     ]
    }
   ],
   "source": [
    "import tensorflow as tf\n",
    "from tensorflow.examples.tutorials.mnist import input_data\n",
    "import numpy as np\n",
    "import matplotlib.pyplot as plt\n",
    "%matplotlib inline\n",
    "import math\n",
    "from tensorflow.python.framework import ops\n",
    "import pickle\n",
    "import os\n",
    "from scipy.misc import imread"
   ]
  },
  {
   "cell_type": "code",
   "execution_count": 2,
   "metadata": {},
   "outputs": [],
   "source": [
    "#tf.test.is_gpu_available()"
   ]
  },
  {
   "cell_type": "code",
   "execution_count": 11,
   "metadata": {},
   "outputs": [],
   "source": [
    "\n",
    "def load_CIFAR_batch(filename):\n",
    "\n",
    "  \"\"\" load single batch of cifar \"\"\"\n",
    "\n",
    "  with open(filename, 'rb') as f:\n",
    "\n",
    "    datadict = pickle.load(f, encoding='latin1')\n",
    "\n",
    "    X = datadict['data']\n",
    "\n",
    "    Y = datadict['labels']\n",
    "\n",
    "    X = X.reshape(10000, 3, 32, 32).transpose(0,2,3,1).astype(\"float\")\n",
    "\n",
    "    Y = np.array(Y)\n",
    "\n",
    "    return X, Y\n",
    "\n",
    "\n",
    "def load_CIFAR10(ROOT):\n",
    "\n",
    "  \"\"\" load all of cifar \"\"\"\n",
    "\n",
    "  xs = []\n",
    "\n",
    "  ys = []\n",
    "\n",
    "  for b in range(1,6):\n",
    "\n",
    "    f = os.path.join(ROOT, 'data_batch_%d' % (b, ))\n",
    "\n",
    "    X, Y = load_CIFAR_batch(f)\n",
    "\n",
    "    xs.append(X)\n",
    "\n",
    "    ys.append(Y)    \n",
    "\n",
    "  Xtr = np.concatenate(xs)\n",
    "\n",
    "  Ytr = np.concatenate(ys)\n",
    "\n",
    "  del X, Y\n",
    "\n",
    "  Xte, Yte = load_CIFAR_batch(os.path.join(ROOT, 'test_batch'))\n",
    "\n",
    "  return Xtr, Ytr, Xte, Yte\n",
    "\n",
    "\n",
    "def get_CIFAR10_data(num_training=49000, num_validation=1000, num_test=1000):\n",
    "\n",
    "    # Load the raw CIFAR-10 data\n",
    "\n",
    "    cifar10_dir = 'C:/Users/Rashid Ali/Desktop/Deep Learning/HW2_0780819_RashidAli/2-CIFAR-10/cifar-10-batches-py'\n",
    "\n",
    "    X_train, y_train, X_test, y_test = load_CIFAR10(cifar10_dir)\n",
    "        \n",
    "    # Subsample the data\n",
    "\n",
    "    mask = range(num_training, num_training + num_validation)\n",
    "    X_val = X_train[mask]\n",
    "    y_val = y_train[mask]\n",
    "    mask = range(num_training)\n",
    "    X_train = X_train[mask]\n",
    "    y_train = y_train[mask]\n",
    "    mask = range(num_test)\n",
    "    X_test = X_test[mask]\n",
    "    y_test = y_test[mask]\n",
    "\n",
    "    # Normalize the data: subtract the mean image\n",
    "\n",
    "    mean_image = np.mean(X_train, axis=0)\n",
    "    X_train -= mean_image\n",
    "    X_val -= mean_image\n",
    "    X_test -= mean_image\n",
    "\n",
    "    return {\n",
    "\n",
    "      'X_train': X_train, 'y_train': y_train,\n",
    "\n",
    "      'X_val': X_val, 'y_val': y_val,\n",
    "\n",
    "      'X_test': X_test, 'y_test': y_test,\n",
    "\n",
    "    }"
   ]
  },
  {
   "cell_type": "code",
   "execution_count": 12,
   "metadata": {},
   "outputs": [],
   "source": [
    "def normalize(x):\n",
    "    min_val = np.min(x)\n",
    "    max_val = np.max(x)\n",
    "    x = (x-min_val) / (max_val-min_val)\n",
    "    return x"
   ]
  },
  {
   "cell_type": "code",
   "execution_count": 13,
   "metadata": {},
   "outputs": [],
   "source": [
    "def dense_to_one_hot(labels_dense, num_classes):\n",
    "    num_labels = labels_dense.shape[0]\n",
    "    index_offset = np.arange(num_labels) * num_classes\n",
    "    labels_one_hot = np.zeros((num_labels, num_classes))\n",
    "    labels_one_hot.flat[index_offset + labels_dense.ravel()] = 1\n",
    "    return labels_one_hot"
   ]
  },
  {
   "cell_type": "code",
   "execution_count": 14,
   "metadata": {},
   "outputs": [
    {
     "name": "stdout",
     "output_type": "stream",
     "text": [
      "Shape of Train_x: (49000, 32, 32, 3)\n",
      "Shape of Train_y: (49000, 10)\n",
      ".......................................\n",
      "Shape of Validation_x: (1000, 32, 32, 3)\n",
      "Shape of Validation_y: (1000, 10)\n",
      ".......................................\n",
      "Shape of Test_x: (1000, 32, 32, 3)\n",
      "Shape of Test_y: (1000, 10)\n"
     ]
    }
   ],
   "source": [
    "data = get_CIFAR10_data()\n",
    "\n",
    "train_x = data['X_train']\n",
    "train_x = normalize(train_x)\n",
    "train_y = data['y_train']\n",
    "train_y = dense_to_one_hot(train_y,10)\n",
    "validation_x = data['X_val']\n",
    "validation_x = normalize(validation_x)\n",
    "validation_y = data['y_val']\n",
    "validation_y = dense_to_one_hot(validation_y,10)\n",
    "test_x = data['X_test']\n",
    "test_x = normalize(test_x)\n",
    "test_y = data['y_test']\n",
    "test_y = dense_to_one_hot(test_y,10)\n",
    "\n",
    "print(\"Shape of Train_x:\", train_x.shape)\n",
    "print(\"Shape of Train_y:\", train_y.shape)\n",
    "print(\".......................................\")\n",
    "print(\"Shape of Validation_x:\", validation_x.shape)\n",
    "print(\"Shape of Validation_y:\", validation_y.shape)\n",
    "print(\".......................................\")\n",
    "print(\"Shape of Test_x:\", test_x.shape)\n",
    "print(\"Shape of Test_y:\",test_y.shape )"
   ]
  },
  {
   "cell_type": "code",
   "execution_count": 6,
   "metadata": {},
   "outputs": [
    {
     "data": {
      "image/png": "[encoded data removed]",
      "text/plain": [
       "<matplotlib.figure.Figure at 0x197de53f160>"
      ]
     },
     "metadata": {},
     "output_type": "display_data"
    }
   ],
   "source": [
    "fig, axes = plt.subplots(3, 3)\n",
    "fig.subplots_adjust(hspace=0.6, wspace=0.3)\n",
    "for i, ax in enumerate(axes.flat):\n",
    "    # Plot image.\n",
    "    ax.imshow(train_x[i])\n",
    "        \n",
    "    # Name of the true class.\n",
    "    #cls_true_name = num_to_class[y_train[i].argmax()]\n",
    "    #xlabel = \"class: {0}\".format(cls_true_name)\n",
    "        \n",
    "    ## Show the classes as the label on the x-axis.\n",
    "    ax.set_xlabel(np.argmax(train_y[i]))\n",
    "        \n",
    "    # Remove ticks from the plot.\n",
    "    ax.set_xticks([])\n",
    "    ax.set_yticks([])"
   ]
  },
  {
   "cell_type": "code",
   "execution_count": 7,
   "metadata": {},
   "outputs": [],
   "source": [
    " # variables for input and output \n",
    "def create_placeholder(H,W,C,y):\n",
    "    \n",
    "    train_x = tf.placeholder(tf.float32, shape=(None, H,W,C))\n",
    "    train_y = tf.placeholder(tf.float32, shape=(None, y))\n",
    "    \n",
    "    return train_x, train_y\n",
    "\n",
    "# weight initialization\n",
    "def weight_variable(shape, name = None):\n",
    "    \n",
    "    initial = tf.truncated_normal(shape, stddev=0.1)\n",
    "    return tf.Variable(initial, name = name)\n",
    "\n",
    "# bias initialization\n",
    "def bias_variable(shape, name = None):\n",
    "    \n",
    "    initial = tf.constant(0.1, shape=shape) \n",
    "    return tf.Variable(initial, name = name)\n",
    "\n",
    "# 2D convolution\n",
    "def conv2d(x, W, name = None):\n",
    "    \n",
    "    return tf.nn.conv2d(x, W, strides=[1, 1, 1, 1], padding='SAME', name = name)\n",
    "\n",
    "# max pooling\n",
    "def max_pool_2x2(x, name = None):\n",
    "    \n",
    "    return tf.nn.max_pool(x, ksize=[1, 2, 2, 1], strides=[1, 2, 2, 1], padding='SAME', name = name)"
   ]
  },
  {
   "cell_type": "code",
   "execution_count": 30,
   "metadata": {},
   "outputs": [],
   "source": [
    "def forward_propagation(X,Y):\n",
    "    \n",
    "    cache=dict()\n",
    "    \n",
    "    # 1.layer: convolution + max pooling\n",
    "    W_conv1_tf = weight_variable([5,5,3,32], name = 'W_conv1_tf') # (5,5,1,32)\n",
    "    b_conv1_tf = bias_variable([32], name = 'b_conv1_tf') # (32)\n",
    "    h_conv1_tf = tf.nn.relu(conv2d(X,W_conv1_tf) + b_conv1_tf, name = 'h_conv1_tf') # (.,28,28,32)\n",
    "    conv1_bn = tf.layers.batch_normalization(h_conv1_tf, name='conv1_bn')\n",
    "    h_pool1_tf = max_pool_2x2(conv1_bn, name = 'h_pool1_tf') # (.,14,14,32)\n",
    "    \n",
    "    cache['h_conv1_tf']=h_conv1_tf\n",
    "    cache['h_pool1_tf']= h_pool1_tf\n",
    "    \n",
    "    print(h_pool1_tf.shape)\n",
    "    \n",
    "    # 2.layer: convolution + max pooling\n",
    "    W_conv2_tf = weight_variable([5,5,32,32],name = 'W_conv2_tf')\n",
    "    b_conv2_tf = bias_variable([32], name = 'b_conv2_tf')\n",
    "    h_conv2_tf = tf.nn.relu(conv2d(h_pool1_tf, W_conv2_tf) + b_conv2_tf, name ='h_conv2_tf') #(.,14,14,64)\n",
    "    conv2_bn   = tf.layers.batch_normalization(h_conv2_tf, name='conv2_bn')\n",
    "    h_pool2_tf = max_pool_2x2(conv2_bn, name = 'h_pool2_tf') #(.,7,7,64)\n",
    "    \n",
    "    cache['h_conv2_tf']=h_conv2_tf\n",
    "    cache['h_pool2_tf']= h_pool2_tf\n",
    "    \n",
    "    print(h_pool2_tf.shape)\n",
    "    \n",
    "    W_conv3_tf = weight_variable([3,3,32,64], name = 'W_conv3_tf')\n",
    "    b_conv3_tf = bias_variable([64], name = 'b_conv3_tf')\n",
    "    h_conv3_tf = tf.nn.relu(conv2d(h_pool2_tf, W_conv3_tf) + b_conv3_tf, name = 'h_conv3_tf') #(.,7,7,32)\n",
    "    conv3_bn = tf.layers.batch_normalization(h_conv3_tf, name='conv3_bn')\n",
    "    h_pool3_tf = max_pool_2x2(conv3_bn, name = 'h_pool3_tf') # (.,4,4,32)\n",
    "    \n",
    "    cache['h_conv3_tf']=h_conv3_tf\n",
    "    cache['h_pool3_tf']= h_pool3_tf\n",
    "    \n",
    "    print(h_pool3_tf.shape)\n",
    "    \n",
    "    # 4.layer: fully connected\n",
    "    W_fc1_tf = weight_variable([4*4*64,500], name = 'W_fc1_tf') # (4*4*64,500)\n",
    "    b_fc1_tf = bias_variable([500], name = 'b_fc1_tf') # (500)\n",
    "    h_pool3_flat_tf = tf.reshape(h_pool3_tf, [-1,4*4*64], name = 'h_pool3_flat_tf') # (.,500)\n",
    "    h_fc1_tf = tf.nn.relu(tf.matmul(h_pool3_flat_tf,W_fc1_tf) + b_fc1_tf, name = 'h_fc1_tf') # (.,500)\n",
    "    fc1_bn = tf.layers.batch_normalization(h_fc1_tf, name='fc1_bn')\n",
    "    \n",
    "    cache['h_fc1_tf']=h_fc1_tf\n",
    "    \n",
    "    print(h_fc1_tf.shape)\n",
    "    \n",
    "    # 5.layer: fully connected\n",
    "    W_fc2_tf = weight_variable([500, 10], name = 'W_fc2_tf')\n",
    "    b_fc2_tf = bias_variable([10], name = 'b_fc2_tf')\n",
    "    z_pred_tf = tf.add(tf.matmul(fc1_bn,W_fc2_tf), b_fc2_tf, name = 'z_pred_tf')# => (.,10)\n",
    "    \n",
    "    cache['z_pred_tf']= z_pred_tf\n",
    "    \n",
    "    \n",
    "    # cost function\n",
    "    cross_entropy_tf = tf.reduce_mean(\n",
    "        tf.nn.softmax_cross_entropy_with_logits_v2(labels=Y , logits=z_pred_tf), name = 'cross_entropy_tf')\n",
    "    \n",
    "    # L2 regularization for the parameters.\n",
    "    regularizers = (tf.nn.l2_loss(W_fc1_tf) + tf.nn.l2_loss(b_fc1_tf) + tf.nn.l2_loss(W_fc2_tf) + tf.nn.l2_loss(b_fc2_tf)\n",
    "       +tf.nn.l2_loss(W_conv3_tf) + tf.nn.l2_loss(b_conv3_tf) + tf.nn.l2_loss(W_conv2_tf) \n",
    "                    + tf.nn.l2_loss(b_conv2_tf)+tf.nn.l2_loss(W_conv1_tf) + tf.nn.l2_loss(b_conv1_tf))\n",
    "    \n",
    "    cross_entropy_tf += 9e-3 * regularizers\n",
    "    \n",
    "    \n",
    "    #predicted probabilities in one-hot encoding\n",
    "    y_pred_proba_tf = tf.nn.softmax(z_pred_tf, name='y_pred_proba_tf') \n",
    "    \n",
    "    return cross_entropy_tf,  y_pred_proba_tf, cache"
   ]
  },
  {
   "cell_type": "code",
   "execution_count": null,
   "metadata": {},
   "outputs": [],
   "source": [
    "tf.reset_default_graph()\n",
    "\n",
    "with tf.Session() as sess:\n",
    "    \n",
    "    X,_,Y = create_placeholders(28, 28, 1, 10)\n",
    "    loss = forward_propagation(X, Y)\n",
    "    init  = tf.global_variables_initializer()\n",
    "    sess.run(init)\n",
    "    #a = sess.run(loss, {X: np.random.randn(50,28,28,1), Y: np.random.randn(50,10)})\n",
    "    #a,b,c = sess.run([loss,fc3,fc4], {X: sample_x, Y: sample_y})\n",
    "    #print(a.shape)\n",
    "    #print(\"loss = \" + str(a))\n",
    "   "
   ]
  },
  {
   "cell_type": "code",
   "execution_count": 31,
   "metadata": {},
   "outputs": [],
   "source": [
    "def random_mini_batches(X, Y, mini_batch_size = 64, seed = 0):\n",
    "    \n",
    "    \n",
    "    m = X.shape[0]                                           # number of training examples\n",
    "    mini_batches = []\n",
    "    np.random.seed(seed)\n",
    "    \n",
    "    \n",
    "    permutation = list(np.random.permutation(m))\n",
    "    shuffled_X = X[permutation,:,:,:]\n",
    "    shuffled_Y = Y[permutation,:]\n",
    "\n",
    "   \n",
    "    num_complete_minibatches = math.floor(m/mini_batch_size) # number of mini batches of size mini_batch_size in your partitionning\n",
    "    for k in range(0, num_complete_minibatches):\n",
    "        mini_batch_X = shuffled_X[k * mini_batch_size : k * mini_batch_size + mini_batch_size,:,:,:]\n",
    "        mini_batch_Y = shuffled_Y[k * mini_batch_size : k * mini_batch_size + mini_batch_size,:]\n",
    "        mini_batch = (mini_batch_X, mini_batch_Y)\n",
    "        mini_batches.append(mini_batch)\n",
    "    \n",
    "    # Handling the end case (last mini-batch < mini_batch_size)\n",
    "    if m % mini_batch_size != 0:\n",
    "        mini_batch_X = shuffled_X[num_complete_minibatches * mini_batch_size : m,:,:,:]\n",
    "        mini_batch_Y = shuffled_Y[num_complete_minibatches * mini_batch_size : m,:]\n",
    "        mini_batch = (mini_batch_X, mini_batch_Y)\n",
    "        mini_batches.append(mini_batch)\n",
    "    \n",
    "    return mini_batches"
   ]
  },
  {
   "cell_type": "code",
   "execution_count": 10,
   "metadata": {},
   "outputs": [],
   "source": [
    "def get_activations(sess, x_data, cache):\n",
    "    \n",
    "        (m,H, W, C) = x_data.shape \n",
    "        \n",
    "        X,Y = create_placeholder(H, W, C, 10)\n",
    "        \n",
    "        feed_dict = {X: x_data}\n",
    "        \n",
    "        h_conv1_tf = cache['h_conv1_tf']\n",
    "        h_pool1_tf = cache['h_pool1_tf']\n",
    "        h_conv2_tf = cache['h_conv2_tf']\n",
    "        h_pool2_tf = cache['h_pool2_tf']\n",
    "        h_conv3_tf = cache['h_conv3_tf']\n",
    "        h_pool3_tf = cache['h_pool3_tf']\n",
    "        h_fc1_tf   = cache['h_fc1_tf']\n",
    "    \n",
    "        h_conv1 = h_conv1_tf.eval(session = sess, feed_dict = feed_dict)\n",
    "        h_pool1 = h_pool1_tf.eval(session = sess, feed_dict = feed_dict)\n",
    "        h_conv2 = h_conv2_tf.eval(session = sess, feed_dict = feed_dict)\n",
    "        h_pool2 = h_pool2_tf.eval(session = sess, feed_dict = feed_dict)\n",
    "        h_conv3 = h_conv3_tf.eval(session = sess, feed_dict = feed_dict)\n",
    "        h_pool3 = h_pool3_tf.eval(session = sess, feed_dict = feed_dict)\n",
    "        h_fc1   = h_fc1_tf.eval(session = sess,   feed_dict = feed_dict)\n",
    "        h_fc2   = z_pred_tf.eval(session = sess,  feed_dict = feed_dict)\n",
    "        \n",
    "        # original image\n",
    "        plt.figure(figsize=(15,9))\n",
    "        plt.subplot(2,4,1)\n",
    "        plt.imshow(x_train_valid[img_no].reshape(28,28),cmap=cm.binary);\n",
    "\n",
    "        # 1. convolution\n",
    "        plt.subplot(2,4,2)\n",
    "        plt.title('h_conv1 ' + str(h_conv1.shape))\n",
    "        h_conv1 = np.reshape(h_conv1,(-1,28,28,6,6))\n",
    "        h_conv1 = np.transpose(h_conv1,(0,3,1,4,2))\n",
    "        h_conv1 = np.reshape(h_conv1,(-1,6*28,6*28))\n",
    "        plt.imshow(h_conv1[0], cmap=cm.binary);\n",
    "\n",
    "        # 1. max pooling\n",
    "        plt.subplot(2,4,3)\n",
    "        plt.title('h_pool1 ' + str(h_pool1.shape))\n",
    "        h_pool1 = np.reshape(h_pool1,(-1,14,14,6,6))\n",
    "        h_pool1 = np.transpose(h_pool1,(0,3,1,4,2))\n",
    "        h_pool1 = np.reshape(h_pool1,(-1,6*14,6*14))\n",
    "        plt.imshow(h_pool1[0], cmap=cm.binary);\n",
    "\n",
    "        # 2. convolution\n",
    "        plt.subplot(2,4,4)\n",
    "        plt.title('h_conv2 ' + str(h_conv2.shape))\n",
    "        h_conv2 = np.reshape(h_conv2,(-1,14,14,6,6))\n",
    "        h_conv2 = np.transpose(h_conv2,(0,3,1,4,2))\n",
    "        h_conv2 = np.reshape(h_conv2,(-1,6*14,6*14))\n",
    "        plt.imshow(h_conv2[0], cmap=cm.binary);\n",
    "\n",
    "        # 2. max pooling\n",
    "        plt.subplot(2,4,5)\n",
    "        plt.title('h_pool2 ' + str(h_pool2.shape))\n",
    "        h_pool2 = np.reshape(h_pool2,(-1,7,7,6,6))\n",
    "        h_pool2 = np.transpose(h_pool2,(0,3,1,4,2))\n",
    "        h_pool2 = np.reshape(h_pool2,(-1,6*7,6*7))\n",
    "        plt.imshow(h_pool2[0], cmap=cm.binary);\n",
    "\n",
    "        # 3. convolution\n",
    "        plt.subplot(2,4,6)\n",
    "        plt.title('h_conv3 ' + str(h_conv3.shape))\n",
    "        h_conv3 = np.reshape(h_conv3,(-1,7,7,6,6))\n",
    "        h_conv3 = np.transpose(h_conv3,(0,3,1,4,2))\n",
    "        h_conv3 = np.reshape(h_conv3,(-1,6*7,6*7))\n",
    "        plt.imshow(h_conv3[0], cmap=cm.binary);\n",
    "\n",
    "        # 3. max pooling\n",
    "        plt.subplot(2,4,7)\n",
    "        plt.title('h_pool2 ' + str(h_pool3.shape))\n",
    "        h_pool3 = np.reshape(h_pool3,(-1,4,4,6,6))\n",
    "        h_pool3 = np.transpose(h_pool3,(0,3,1,4,2))\n",
    "        h_pool3 = np.reshape(h_pool3,(-1,6*4,6*4))\n",
    "        plt.imshow(h_pool3[0], cmap=cm.binary);\n",
    "\n",
    "        # 4. FC layer\n",
    "        plt.subplot(2,4,8)\n",
    "        plt.title('h_fc1 ' + str(h_fc1.shape))\n",
    "        h_fc1 = np.reshape(h_fc1,(-1,24,24))\n",
    "        plt.imshow(h_fc1[0], cmap=cm.binary);\n",
    "        \n",
    "        return None"
   ]
  },
  {
   "cell_type": "code",
   "execution_count": 32,
   "metadata": {},
   "outputs": [],
   "source": [
    "def extract_weight(sess):\n",
    "    # extract trained weights and biases\n",
    "    weights= dict()\n",
    "    W_conv1  = sess.run('W_conv1_tf:0')\n",
    "    W_conv2  = sess.run('W_conv2_tf:0')\n",
    "    W_conv3  = sess.run('W_conv3_tf:0')\n",
    "    W_fc1    = sess.run('W_fc1_tf:0')\n",
    "    W_output = sess.run('W_fc2_tf:0')\n",
    "        \n",
    "    b_conv1  = sess.run('b_conv1_tf:0')\n",
    "    b_conv2  = sess.run('b_conv2_tf:0')\n",
    "    b_conv3  = sess.run('b_conv3_tf:0')\n",
    "    b_fc1    = sess.run('b_fc1_tf:0')\n",
    "    b_output = sess.run('b_fc2_tf:0')\n",
    "        \n",
    "    weights['W_conv1']=W_conv1\n",
    "    weights['W_conv2']=W_conv2\n",
    "    weights['W_conv3']=W_conv3\n",
    "    weights['W_fc1']=W_fc1\n",
    "    weights['W_output']=W_output\n",
    "        \n",
    "    weights['b_conv1']=b_conv1\n",
    "    weights['b_conv2']=b_conv2\n",
    "    weights['b_conv3']=b_conv3\n",
    "    weights['b_fc1']=b_fc1\n",
    "    weights['b_output']=b_output\n",
    "        \n",
    "    return weights"
   ]
  },
  {
   "cell_type": "code",
   "execution_count": 33,
   "metadata": {},
   "outputs": [],
   "source": [
    "def model(train_x, train_y, valid_x,valid_y, test_x, test_y, learning_rate = 0.0001, num_epochs = 100, minibatch_size = 16, print_cost = True):\n",
    "    \n",
    "    \n",
    "    ops.reset_default_graph()  \n",
    "    \n",
    "    (m, H, W, C) = train_x.shape             \n",
    "    n_y = train_y.shape[1]                            \n",
    "    train_losses = [] \n",
    "    \n",
    "    train_acc = []\n",
    "    valid_acc = []\n",
    "    test_acc  = []\n",
    "    \n",
    "    weights = dict()\n",
    "    cache_layers = dict()\n",
    "    \n",
    "    seed = 3  \n",
    "    X,Y = create_placeholder(H, W, C, n_y)\n",
    "    loss, fc4, cache_layers  = forward_propagation(X, Y)\n",
    "    \n",
    "    optimizer = tf.train.AdamOptimizer(learning_rate).minimize(loss)\n",
    "    \n",
    "    \n",
    "    # Initialize all the variables globally\n",
    "    init = tf.global_variables_initializer()\n",
    "     \n",
    "    # Start the session to compute the tensorflow graph\n",
    "    with tf.Session() as sess:\n",
    "        \n",
    "        # Run the initialization\n",
    "        sess.run(init)\n",
    "        \n",
    "        # Do the training loop\n",
    "        for epoch in range(num_epochs):\n",
    "\n",
    "            minibatch_cost = 0\n",
    "            num_minibatches = int(m / minibatch_size) # number of minibatches of size minibatch_size in the train set\n",
    "            seed = seed + 1\n",
    "            minibatches = random_mini_batches(train_x, train_y, minibatch_size, seed)\n",
    "\n",
    "            for minibatch in minibatches:\n",
    "\n",
    "                # Select a minibatch\n",
    "                (minibatch_X, minibatch_Y) = minibatch\n",
    "                \n",
    "                # Run the session to execute the optimizer and the cost on minibatch\n",
    "                _ , temp_cost = sess.run([optimizer,loss], feed_dict={X: minibatch_X, Y: minibatch_Y})\n",
    "                \n",
    "                minibatch_cost += temp_cost / num_minibatches\n",
    "                \n",
    "\n",
    "            # Print the cost every epoch\n",
    "            if print_cost == True and epoch % 5 == 0:\n",
    "                print (\"Cost of training data after epoch %i: %f\" % (epoch, minibatch_cost))\n",
    "            if print_cost == True and epoch % 1 == 0:\n",
    "                train_losses.append(minibatch_cost)\n",
    "\n",
    "\n",
    "            # Calculate the correct predictions\n",
    "            predict_op = tf.argmax(fc4, 1)\n",
    "            correct_prediction = tf.equal(predict_op, tf.argmax(Y, 1))\n",
    "            # Calculate accuracy on the test set\n",
    "            accuracy = tf.reduce_mean(tf.cast(correct_prediction, \"float\"))\n",
    "            \n",
    "            train_accuracy = 0\n",
    "            valid_accuracy = 0\n",
    "            test_accuracy =  0\n",
    "            \n",
    "            for minibatch in minibatches:\n",
    "            \n",
    "                (minibatch_X, minibatch_Y) = minibatch\n",
    "                temp_accuracy = accuracy.eval({X: minibatch_X, Y: minibatch_Y})\n",
    "                train_accuracy += temp_accuracy / num_minibatches\n",
    "            \n",
    "            if print_cost == True and epoch % 1 == 0:\n",
    "                train_acc.append(train_accuracy)\n",
    "       \n",
    "            \n",
    "            \n",
    "            valid_accuracy = accuracy.eval({X: valid_x, Y: valid_y})\n",
    "            if print_cost == True and epoch % 1 == 0:\n",
    "                valid_acc.append(valid_accuracy)\n",
    "            \n",
    "            test_accuracy = accuracy.eval({X: test_x, Y: test_y})\n",
    "            if print_cost == True and epoch % 1 == 0:\n",
    "                test_acc.append(test_accuracy)\n",
    "        \n",
    "        #print accuracies\n",
    "       \n",
    "        print(\"Train Accuracy:\", train_accuracy)\n",
    "        print(\"Validation Accuracy:\", valid_accuracy)\n",
    "        print(\"Test Accuracy:\", test_accuracy)\n",
    "        \n",
    "        # extract weights\n",
    "        \n",
    "        weights = extract_weight(sess)\n",
    "        \n",
    "        #Visualize missclassified and correctly classified images\n",
    "        \n",
    "        pred_y= fc4.eval(feed_dict = {X:test_x})\n",
    "        y_valid_pred_label = np.argmax(pred_y,1)\n",
    "        y_valid_label = np.argmax(test_y,1)\n",
    "        y_val_false_index = []\n",
    "        y_val_true_index = []\n",
    "        \n",
    "       \n",
    "        \n",
    "        for i in range(y_valid_label.shape[0]):\n",
    "            if y_valid_pred_label[i] != y_valid_label[i]:\n",
    "                y_val_false_index.append(i)\n",
    "\n",
    "        print('# False predictions: ', len(y_val_false_index),'out of', len(test_y))\n",
    "        \n",
    "        plt.figure(figsize=(10,15))\n",
    "        for j in range(0,1):\n",
    "            for i in range(0,4):\n",
    "                if j*10+i<len(y_val_false_index):\n",
    "                    plt.subplot(1,4,j*10+i+1)\n",
    "                    plt.title('label:'+str(y_valid_label[y_val_false_index[j*10+i]])+'  pred:'+\n",
    "                               str(y_valid_pred_label[y_val_false_index[j*10+i]]))\n",
    "                    plt.imshow(test_x[y_val_false_index[j*10+i]],cmap='gray') \n",
    "                    plt.savefig('miss_classfied after L2')\n",
    "        \n",
    "        for k in range(y_valid_label.shape[0]):\n",
    "            if y_valid_pred_label[k] == y_valid_label[k]:\n",
    "                y_val_true_index.append(k)\n",
    "                \n",
    "        print('# True predictions: ', len(y_val_true_index),'out of', len(test_y))\n",
    "        \n",
    "        plt.figure(figsize=(10,15))\n",
    "        for j in range(0,1):\n",
    "            for i in range(0,4):\n",
    "                if j*10+i<len(y_val_false_index):\n",
    "                    plt.subplot(1,4,j*10+i+1)\n",
    "                    plt.title('label:'+str(y_valid_label[y_val_true_index[j*10+i]])+'  pred:'+str(y_valid_pred_label[y_val_true_index[j*10+i]]))\n",
    "                    plt.imshow(test_x[y_val_true_index[j*10+i]],cmap='gray') \n",
    "                    plt.savefig('Correct_classified after L2')\n",
    "        #img_no = 10\n",
    "        \n",
    "        #x_data = test_x[img_no:img_no+1]\n",
    "        \n",
    "        #get_activations(sess, x_data, cache_layers)\n",
    "        \n",
    "        #print(\"Train Accuracy:\", len(train_acc))\n",
    "        #print(\"Validation Accuracy:\", len(valid_acc))\n",
    "        #print(\"Test Accuracy:\", len(test_acc))\n",
    "        \n",
    "        return train_acc, valid_acc, test_acc, train_losses,weights,fc4\n",
    "    "
   ]
  },
  {
   "cell_type": "code",
   "execution_count": 34,
   "metadata": {},
   "outputs": [
    {
     "name": "stdout",
     "output_type": "stream",
     "text": [
      "(?, 16, 16, 32)\n",
      "(?, 8, 8, 32)\n",
      "(?, 4, 4, 64)\n",
      "(?, 500)\n",
      "Cost of training data after epoch 0: 10.751217\n",
      "Cost of training data after epoch 5: 1.872676\n",
      "Cost of training data after epoch 10: 1.418155\n",
      "Cost of training data after epoch 15: 1.244721\n",
      "Cost of training data after epoch 20: 1.136995\n",
      "Cost of training data after epoch 25: 1.060179\n",
      "Cost of training data after epoch 30: 0.994412\n",
      "Cost of training data after epoch 35: 0.936642\n",
      "Cost of training data after epoch 40: 0.885248\n",
      "Cost of training data after epoch 45: 0.834091\n",
      "Cost of training data after epoch 50: 0.788940\n",
      "Cost of training data after epoch 55: 0.749373\n",
      "Cost of training data after epoch 60: 0.710589\n",
      "Cost of training data after epoch 65: 0.672710\n",
      "Cost of training data after epoch 70: 0.642050\n",
      "Cost of training data after epoch 75: 0.615880\n",
      "Cost of training data after epoch 80: 0.590620\n",
      "Cost of training data after epoch 85: 0.569257\n",
      "Cost of training data after epoch 90: 0.550385\n",
      "Cost of training data after epoch 95: 0.535060\n",
      "Train Accuracy: 0.9657903331155958\n",
      "Validation Accuracy: 0.757\n",
      "Test Accuracy: 0.768\n",
      "# False predictions:  232 out of 1000\n",
      "# True predictions:  768 out of 1000\n"
     ]
    },
    {
     "data": {
      "image/png": "[encoded data removed]",
      "text/plain": [
       "<matplotlib.figure.Figure at 0x19903e988d0>"
      ]
     },
     "metadata": {},
     "output_type": "display_data"
    },
    {
     "data": {
      "image/png": "[encoded data removed]",
      "text/plain": [
       "<matplotlib.figure.Figure at 0x19903fdbcf8>"
      ]
     },
     "metadata": {},
     "output_type": "display_data"
    }
   ],
   "source": [
    "train_acc,valid_acc,test_acc,train_losses,weights,fc4 = model(train_x, train_y, validation_x, validation_y, test_x, test_y)\n"
   ]
  },
  {
   "cell_type": "code",
   "execution_count": 35,
   "metadata": {},
   "outputs": [
    {
     "data": {
      "image/png": "[encoded data removed]",
      "text/plain": [
       "<matplotlib.figure.Figure at 0x19861387ac8>"
      ]
     },
     "metadata": {},
     "output_type": "display_data"
    }
   ],
   "source": [
    "# plot the loss\n",
    "plt.plot(np.squeeze(train_losses), 'g',label='Cross entropy')\n",
    "plt.ylabel('Loss')\n",
    "plt.xlabel('Iteration')\n",
    "plt.title(\"Learning Curve\")\n",
    "#plt.ylim(ymax = 28, ymin = 0.0001)\n",
    "plt.legend(loc='upper right')\n",
    "plt.savefig('Learning Curve after L2')\n",
    "plt.show() "
   ]
  },
  {
   "cell_type": "code",
   "execution_count": 66,
   "metadata": {},
   "outputs": [
    {
     "data": {
      "text/plain": [
       "100"
      ]
     },
     "execution_count": 66,
     "metadata": {},
     "output_type": "execute_result"
    }
   ],
   "source": [
    "len(train_acc)"
   ]
  },
  {
   "cell_type": "code",
   "execution_count": 67,
   "metadata": {},
   "outputs": [
    {
     "data": {
      "text/plain": [
       "100"
      ]
     },
     "execution_count": 67,
     "metadata": {},
     "output_type": "execute_result"
    }
   ],
   "source": [
    "len(valid_acc)"
   ]
  },
  {
   "cell_type": "code",
   "execution_count": 36,
   "metadata": {},
   "outputs": [
    {
     "data": {
      "image/png": "[encoded data removed]",
      "text/plain": [
       "<matplotlib.figure.Figure at 0x199041c7198>"
      ]
     },
     "metadata": {},
     "output_type": "display_data"
    }
   ],
   "source": [
    "plt.plot(np.arange(0,len(train_acc)), train_acc,'-b', label='Training Accuracy')\n",
    "plt.plot(np.arange(0,len(valid_acc)), valid_acc,'-g', label='Validation Accuracy')\n",
    "plt.plot(np.arange(0,len(test_acc)), test_acc,'-r', label='Test Accuracy')\n",
    "plt.title(\"Training Accuracy\")\n",
    "plt.legend(loc='lower right', frameon=False)\n",
    "plt.ylim(ymax = 1.00, ymin = 0.45)\n",
    "plt.ylabel('Accuracy Rate')\n",
    "plt.xlabel('Iteration')\n",
    "plt.savefig('Training Accuracy after L2')"
   ]
  },
  {
   "cell_type": "code",
   "execution_count": 37,
   "metadata": {},
   "outputs": [],
   "source": [
    "#plot distribution of weights and biases\n",
    "W_conv1 =weights['W_conv1']\n",
    "W_conv2 =weights['W_conv2']\n",
    "W_conv3 =weights['W_conv3']\n",
    "W_fc1   =weights['W_fc1']\n",
    "W_output=weights['W_output']\n",
    "        \n",
    "b_conv1 =weights['b_conv1']\n",
    "b_conv2 =weights['b_conv2']\n",
    "b_conv3 =weights['b_conv3']\n",
    "b_fc1   =weights['b_fc1']\n",
    "b_output=weights['b_output']\n"
   ]
  },
  {
   "cell_type": "code",
   "execution_count": 18,
   "metadata": {},
   "outputs": [
    {
     "data": {
      "text/plain": [
       "(5, 5, 32, 32)"
      ]
     },
     "execution_count": 18,
     "metadata": {},
     "output_type": "execute_result"
    }
   ],
   "source": [
    "W_conv2.shape"
   ]
  },
  {
   "cell_type": "code",
   "execution_count": 38,
   "metadata": {},
   "outputs": [
    {
     "data": {
      "image/png": "[encoded data removed]",
      "text/plain": [
       "<matplotlib.figure.Figure at 0x1990b9bd128>"
      ]
     },
     "metadata": {},
     "output_type": "display_data"
    }
   ],
   "source": [
    "#plt.figure(figsize=(10, 5));\n",
    "#plt.subplot(1,2,1);\n",
    "#num_bins=10\n",
    "W_conv1=W_conv1.reshape((25, 96))\n",
    "plt.hist(W_conv1)\n",
    "plt.xlabel('Value')\n",
    "plt.ylabel('Number')\n",
    "plt.title('Histogram of Conv1')\n",
    "plt.savefig('Histogram of Conv1 after L2')"
   ]
  },
  {
   "cell_type": "code",
   "execution_count": 39,
   "metadata": {},
   "outputs": [
    {
     "data": {
      "image/png": "[encoded data removed]",
      "text/plain": [
       "<matplotlib.figure.Figure at 0x19904088908>"
      ]
     },
     "metadata": {},
     "output_type": "display_data"
    }
   ],
   "source": [
    "W_conv2=W_conv2.reshape((25, 1024))\n",
    "plt.hist(W_conv2)\n",
    "plt.xlabel('Value')\n",
    "plt.ylabel('Number')\n",
    "plt.title('Histogram of Conv2')\n",
    "plt.savefig('Histogram of Conv2 after L2')"
   ]
  },
  {
   "cell_type": "code",
   "execution_count": 40,
   "metadata": {},
   "outputs": [
    {
     "data": {
      "image/png": "[encoded data removed]",
      "text/plain": [
       "<matplotlib.figure.Figure at 0x19906282898>"
      ]
     },
     "metadata": {},
     "output_type": "display_data"
    }
   ],
   "source": [
    "#plt.subplot(1,2,2)\n",
    "plt.hist(W_fc1)\n",
    "plt.xlabel('Value')\n",
    "plt.ylabel('Number')\n",
    "plt.title('Histogram of dense1')\n",
    "plt.savefig('Histogram of dense1 after L2')"
   ]
  },
  {
   "cell_type": "code",
   "execution_count": 41,
   "metadata": {},
   "outputs": [
    {
     "data": {
      "image/png": "[encoded data removed]",
      "text/plain": [
       "<matplotlib.figure.Figure at 0x19905903668>"
      ]
     },
     "metadata": {},
     "output_type": "display_data"
    }
   ],
   "source": [
    "#plt.subplot(1,2,2)\n",
    "plt.hist(W_output)\n",
    "plt.xlabel('Value')\n",
    "plt.ylabel('Number')\n",
    "plt.title('Histogram of output')\n",
    "plt.savefig('Histogram of output after L2')"
   ]
  },
  {
   "cell_type": "code",
   "execution_count": null,
   "metadata": {},
   "outputs": [],
   "source": [
    "#wb=tf.trainable_variables()\n"
   ]
  },
  {
   "cell_type": "code",
   "execution_count": null,
   "metadata": {},
   "outputs": [],
   "source": [
    "(m, H, W, C) = train_x.shape             \n",
    "n_y = train_y.shape[1] \n",
    "    \n",
    "X,Y = create_placeholder(H, W, C, n_y)\n",
    "loss, fc4  = forward_propagation(X, Y)\n",
    "\n",
    "with tf.Session() as sess:\n",
    "    init = tf.global_variables_initializer()\n",
    "    sess.run(init)\n",
    "    w=sess.run('h_conv1_tf:0')\n",
    "    #print(w)\n",
    "   "
   ]
  },
  {
   "cell_type": "code",
   "execution_count": null,
   "metadata": {},
   "outputs": [],
   "source": [
    " def getActivations(layer,stimuli):\n",
    "        units = sess.run(layer,feed_dict={X:np.reshape(stimuli,[1,784],order='F')})\n",
    "        plotNNFilter(units)\n",
    "    "
   ]
  },
  {
   "cell_type": "code",
   "execution_count": null,
   "metadata": {},
   "outputs": [],
   "source": [
    "def plotNNFilter(units):\n",
    "    filters = units.shape[3]\n",
    "    plt.figure(1, figsize=(20,20))\n",
    "    n_columns = 6\n",
    "    n_rows = math.ceil(filters / n_columns) + 1\n",
    "    for i in range(filters):\n",
    "        plt.subplot(n_rows, n_columns, i+1)\n",
    "        plt.title('Filter ' + str(i))\n",
    "        plt.imshow(units[0,:,:,i], interpolation=\"nearest\", cmap=\"gray\")"
   ]
  },
  {
   "cell_type": "code",
   "execution_count": null,
   "metadata": {},
   "outputs": [],
   "source": [
    "imageToUse = mnist.test.images[0]\n",
    "plt.imshow(np.reshape(imageToUse,[28,28]), interpolation=\"nearest\", cmap=\"gray\")"
   ]
  },
  {
   "cell_type": "code",
   "execution_count": null,
   "metadata": {},
   "outputs": [],
   "source": []
  }
 ],
 "metadata": {
  "kernelspec": {
   "display_name": "Python 3",
   "language": "python",
   "name": "python3"
  },
  "language_info": {
   "codemirror_mode": {
    "name": "ipython",
    "version": 3
   },
   "file_extension": ".py",
   "mimetype": "text/x-python",
   "name": "python",
   "nbconvert_exporter": "python",
   "pygments_lexer": "ipython3",
   "version": "3.6.4"
  }
 },
 "nbformat": 4,
 "nbformat_minor": 2
}

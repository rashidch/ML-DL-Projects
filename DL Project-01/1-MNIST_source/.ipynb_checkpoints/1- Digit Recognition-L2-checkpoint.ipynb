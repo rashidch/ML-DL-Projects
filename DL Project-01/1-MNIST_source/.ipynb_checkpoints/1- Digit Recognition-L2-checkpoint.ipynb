{
 "cells": [
  {
   "cell_type": "code",
   "execution_count": 2,
   "metadata": {},
   "outputs": [
    {
     "name": "stderr",
     "output_type": "stream",
     "text": [
      "C:\\Users\\Rashid Ali\\Anaconda3\\lib\\site-packages\\h5py\\__init__.py:36: FutureWarning: Conversion of the second argument of issubdtype from `float` to `np.floating` is deprecated. In future, it will be treated as `np.float64 == np.dtype(float).type`.\n",
      "  from ._conv import register_converters as _register_converters\n"
     ]
    }
   ],
   "source": [
    "import tensorflow as tf\n",
    "from tensorflow.examples.tutorials.mnist import input_data\n",
    "import numpy as np\n",
    "import matplotlib.pyplot as plt\n",
    "%matplotlib inline\n",
    "import math\n",
    "from tensorflow.python.framework import ops"
   ]
  },
  {
   "cell_type": "code",
   "execution_count": 3,
   "metadata": {},
   "outputs": [],
   "source": [
    "#tf.test.is_gpu_available()"
   ]
  },
  {
   "cell_type": "code",
   "execution_count": 4,
   "metadata": {},
   "outputs": [
    {
     "name": "stdout",
     "output_type": "stream",
     "text": [
      "WARNING:tensorflow:From <ipython-input-4-657032c8ad2a>:1: read_data_sets (from tensorflow.contrib.learn.python.learn.datasets.mnist) is deprecated and will be removed in a future version.\n",
      "Instructions for updating:\n",
      "Please use alternatives such as official/mnist/dataset.py from tensorflow/models.\n",
      "WARNING:tensorflow:From C:\\Users\\Rashid Ali\\Anaconda3\\lib\\site-packages\\tensorflow\\contrib\\learn\\python\\learn\\datasets\\mnist.py:260: maybe_download (from tensorflow.contrib.learn.python.learn.datasets.base) is deprecated and will be removed in a future version.\n",
      "Instructions for updating:\n",
      "Please write your own downloading logic.\n",
      "WARNING:tensorflow:From C:\\Users\\Rashid Ali\\Anaconda3\\lib\\site-packages\\tensorflow\\contrib\\learn\\python\\learn\\datasets\\base.py:252: _internal_retry.<locals>.wrap.<locals>.wrapped_fn (from tensorflow.contrib.learn.python.learn.datasets.base) is deprecated and will be removed in a future version.\n",
      "Instructions for updating:\n",
      "Please use urllib or similar directly.\n",
      "Successfully downloaded train-images-idx3-ubyte.gz 9912422 bytes.\n",
      "WARNING:tensorflow:From C:\\Users\\Rashid Ali\\Anaconda3\\lib\\site-packages\\tensorflow\\contrib\\learn\\python\\learn\\datasets\\mnist.py:262: extract_images (from tensorflow.contrib.learn.python.learn.datasets.mnist) is deprecated and will be removed in a future version.\n",
      "Instructions for updating:\n",
      "Please use tf.data to implement this functionality.\n",
      "Extracting MNIST_data\\train-images-idx3-ubyte.gz\n",
      "Successfully downloaded train-labels-idx1-ubyte.gz 28881 bytes.\n",
      "WARNING:tensorflow:From C:\\Users\\Rashid Ali\\Anaconda3\\lib\\site-packages\\tensorflow\\contrib\\learn\\python\\learn\\datasets\\mnist.py:267: extract_labels (from tensorflow.contrib.learn.python.learn.datasets.mnist) is deprecated and will be removed in a future version.\n",
      "Instructions for updating:\n",
      "Please use tf.data to implement this functionality.\n",
      "Extracting MNIST_data\\train-labels-idx1-ubyte.gz\n",
      "WARNING:tensorflow:From C:\\Users\\Rashid Ali\\Anaconda3\\lib\\site-packages\\tensorflow\\contrib\\learn\\python\\learn\\datasets\\mnist.py:110: dense_to_one_hot (from tensorflow.contrib.learn.python.learn.datasets.mnist) is deprecated and will be removed in a future version.\n",
      "Instructions for updating:\n",
      "Please use tf.one_hot on tensors.\n",
      "Successfully downloaded t10k-images-idx3-ubyte.gz 1648877 bytes.\n",
      "Extracting MNIST_data\\t10k-images-idx3-ubyte.gz\n",
      "Successfully downloaded t10k-labels-idx1-ubyte.gz 4542 bytes.\n",
      "Extracting MNIST_data\\t10k-labels-idx1-ubyte.gz\n",
      "WARNING:tensorflow:From C:\\Users\\Rashid Ali\\Anaconda3\\lib\\site-packages\\tensorflow\\contrib\\learn\\python\\learn\\datasets\\mnist.py:290: DataSet.__init__ (from tensorflow.contrib.learn.python.learn.datasets.mnist) is deprecated and will be removed in a future version.\n",
      "Instructions for updating:\n",
      "Please use alternatives such as official/mnist/dataset.py from tensorflow/models.\n",
      "Shape of Train_x: (50000, 28, 28, 1)\n",
      "Shape of Train_y: (50000, 10)\n",
      ".......................................\n",
      "Shape of Validation_x: (5000, 28, 28, 1)\n",
      "Shape of Validation_y: (5000, 10)\n",
      ".......................................\n",
      "Shape of Test_x: (10000, 28, 28, 1)\n",
      "Shape of Test_y: (10000, 10)\n"
     ]
    }
   ],
   "source": [
    "mnist = input_data.read_data_sets(\"MNIST_data\", one_hot=True)\n",
    "\n",
    "train_data = mnist.train.images\n",
    "train_y = mnist.train.labels\n",
    "test_data  = mnist.test.images\n",
    "test_y = mnist.test.labels    \n",
    "\n",
    "#reshape the train_data and test_data\n",
    "def reshape_data(train_data, test_data):\n",
    "    \n",
    "    #train_data =(train_data-(255/2.0))/255\n",
    "    #train_x = train_data.reshape(55000,28,28,1)\n",
    "    train_x = (train_data>0).reshape(55000,28,28,1).astype(np.uint8)*255\n",
    "    \n",
    "    \n",
    "    test_x  = (test_data>0).reshape(10000,28,28,1).astype(np.uint8)*255\n",
    "    #test_data =(test_data-(255/2.0))/255\n",
    "    #test_x   = test_data.reshape(10000,28,28,1)\n",
    "    \n",
    "    return train_x, test_x\n",
    "\n",
    "# split train_data into train_x and validation_x\n",
    "train_x, test_x = reshape_data(train_data, test_data)\n",
    "validation_x   = train_x[:5000, ...]\n",
    "validation_y = train_y[:5000]\n",
    "train_x = train_x[5000:, ...]\n",
    "train_y = train_y[5000:]\n",
    "\n",
    "print(\"Shape of Train_x:\", train_x.shape)\n",
    "print(\"Shape of Train_y:\", train_y.shape)\n",
    "print(\".......................................\")\n",
    "print(\"Shape of Validation_x:\", validation_x.shape)\n",
    "print(\"Shape of Validation_y:\", validation_y.shape)\n",
    "print(\".......................................\")\n",
    "print(\"Shape of Test_x:\", test_x.shape)\n",
    "print(\"Shape of Test_y:\",test_y.shape )"
   ]
  },
  {
   "cell_type": "code",
   "execution_count": 4,
   "metadata": {},
   "outputs": [
    {
     "data": {
      "image/png": "[encoded data removed]",
      "text/plain": [
       "<matplotlib.figure.Figure at 0x26d35a0b518>"
      ]
     },
     "metadata": {},
     "output_type": "display_data"
    }
   ],
   "source": [
    "# plot first 36 images in MNIST\n",
    "fig, ax = plt.subplots(3, 3, figsize = (7, 7))\n",
    "fig.suptitle('First 9 images in MNIST')\n",
    "fig.tight_layout(pad = 0.3, rect = [0, 0, 0.9, 0.9])\n",
    "for x, y in [(i, j) for i in range(3) for j in range(3)]:\n",
    "    ax[x, y].imshow(train_x[x + y * 3].reshape((28, 28)), cmap = 'gray')\n",
    "    ax[x, y].set_title(np.argmax(train_y[x + y * 3]))"
   ]
  },
  {
   "cell_type": "code",
   "execution_count": 5,
   "metadata": {},
   "outputs": [],
   "source": [
    " # variables for input and output \n",
    "def create_placeholder(H,W,C,y):\n",
    "    \n",
    "    train_x = tf.placeholder(tf.float32, shape=(None, H,W,C))\n",
    "    train_y = tf.placeholder(tf.float32, shape=(None, y))\n",
    "    \n",
    "    return train_x, train_y\n",
    "\n",
    "# weight initialization\n",
    "def weight_variable(shape, name = None):\n",
    "    \n",
    "    initial = tf.truncated_normal(shape, stddev=0.1)\n",
    "    return tf.Variable(initial, name = name)\n",
    "\n",
    "# bias initialization\n",
    "def bias_variable(shape, name = None):\n",
    "    \n",
    "    initial = tf.constant(0.1, shape=shape) \n",
    "    return tf.Variable(initial, name = name)\n",
    "\n",
    "# 2D convolution\n",
    "def conv2d(x, W, name = None):\n",
    "    \n",
    "    return tf.nn.conv2d(x, W, strides=[1, 1, 1, 1], padding='SAME', name = name)\n",
    "\n",
    "# max pooling\n",
    "def max_pool_2x2(x, name = None):\n",
    "    \n",
    "    return tf.nn.max_pool(x, ksize=[1, 2, 2, 1], strides=[1, 2, 2, 1], padding='SAME', name = name)"
   ]
  },
  {
   "cell_type": "code",
   "execution_count": 6,
   "metadata": {},
   "outputs": [],
   "source": [
    "def forward_propagation(X,Y, cache):\n",
    "    \n",
    "    # 1.layer: convolution + max pooling\n",
    "    W_conv1_tf = weight_variable([5,5,1,32], name = 'W_conv1_tf') # (5,5,1,32)\n",
    "    b_conv1_tf = bias_variable([32], name = 'b_conv1_tf') # (32)\n",
    "    h_conv1_tf = tf.nn.relu(conv2d(X,W_conv1_tf) + b_conv1_tf, name = 'h_conv1_tf') # (.,28,28,32)\n",
    "    h_pool1_tf = max_pool_2x2(h_conv1_tf, name = 'h_pool1_tf') # (.,14,14,32)\n",
    "    \n",
    "    #cache['h_conv1_tf']=h_conv1_tf\n",
    "    #cache['h_pool1_tf']= h_pool1_tf\n",
    "    \n",
    "    #print(h_pool1_tf.shape)\n",
    "    \n",
    "    # 2.layer: convolution + max pooling\n",
    "    W_conv2_tf = weight_variable([5,5,32,32],name = 'W_conv2_tf')\n",
    "    b_conv2_tf = bias_variable([32], name = 'b_conv2_tf')\n",
    "    h_conv2_tf = tf.nn.relu(conv2d(h_pool1_tf, W_conv2_tf) + b_conv2_tf, name ='h_conv2_tf') #(.,14,14,64)\n",
    "    h_pool2_tf = max_pool_2x2(h_conv2_tf, name = 'h_pool2_tf') #(.,7,7,64)\n",
    "    \n",
    "    #cache['h_conv2_tf']=h_conv2_tf\n",
    "    #cache['h_pool2_tf']= h_pool2_tf\n",
    "    #print(h_pool2_tf.shape)\n",
    "    \n",
    "    W_conv3_tf = weight_variable([3,3,32,64], name = 'W_conv3_tf')\n",
    "    b_conv3_tf = bias_variable([64], name = 'b_conv3_tf')\n",
    "    h_conv3_tf = tf.nn.relu(conv2d(h_pool2_tf, W_conv3_tf) + b_conv3_tf, name = 'h_conv3_tf') #(.,7,7,32)\n",
    "    h_pool3_tf = max_pool_2x2(h_conv3_tf, name = 'h_pool3_tf') # (.,4,4,32)\n",
    "    \n",
    "    #print(h_pool3_tf.shape)\n",
    "    \n",
    "    # 4.layer: fully connected\n",
    "    W_fc1_tf = weight_variable([4*4*64,500], name = 'W_fc1_tf') # (4*4*32, 1024)\n",
    "    b_fc1_tf = bias_variable([500], name = 'b_fc1_tf') # (1024)\n",
    "    h_pool3_flat_tf = tf.reshape(h_pool3_tf, [-1,4*4*64], name = 'h_pool3_flat_tf') # (.,1024)\n",
    "    h_fc1_tf = tf.nn.relu(tf.matmul(h_pool3_flat_tf,W_fc1_tf) + b_fc1_tf, name = 'h_fc1_tf') # (.,1024)\n",
    "    #print(h_fc1_tf.shape)\n",
    "    \n",
    "    # 5.layer: fully connected\n",
    "    W_fc2_tf = weight_variable([500, 10], name = 'W_fc2_tf')\n",
    "    b_fc2_tf = bias_variable([10], name = 'b_fc2_tf')\n",
    "    z_pred_tf = tf.add(tf.matmul(h_fc1_tf,W_fc2_tf), b_fc2_tf, name = 'z_pred_tf')# => (.,10)\n",
    "    \n",
    "    # cost function\n",
    "    cross_entropy_tf = tf.reduce_mean(\n",
    "        tf.nn.softmax_cross_entropy_with_logits_v2(labels=Y , logits=z_pred_tf), name = 'cross_entropy_tf')\n",
    "    \n",
    "    # L2 regularization for the parameters.\n",
    "    regularizers = (tf.nn.l2_loss(W_fc1_tf) + tf.nn.l2_loss(b_fc1_tf) + tf.nn.l2_loss(W_fc2_tf) + tf.nn.l2_loss(b_fc2_tf)\n",
    "       +tf.nn.l2_loss(W_conv3_tf) + tf.nn.l2_loss(b_conv3_tf) + tf.nn.l2_loss(W_conv2_tf) \n",
    "                    + tf.nn.l2_loss(b_conv2_tf)+tf.nn.l2_loss(W_conv1_tf) + tf.nn.l2_loss(b_conv1_tf))\n",
    "    \n",
    "    cross_entropy_tf += 9e-4 * regularizers\n",
    "    \n",
    "    #predicted probabilities in one-hot encoding\n",
    "    y_pred_proba_tf = tf.nn.softmax(z_pred_tf, name='y_pred_proba_tf') \n",
    "    \n",
    "    return cross_entropy_tf,  y_pred_proba_tf"
   ]
  },
  {
   "cell_type": "code",
   "execution_count": 7,
   "metadata": {},
   "outputs": [],
   "source": [
    "def random_mini_batches(X, Y, mini_batch_size = 64, seed = 0):\n",
    "    \n",
    "    \n",
    "    m = X.shape[0]                                           # number of training examples\n",
    "    mini_batches = []\n",
    "    np.random.seed(seed)\n",
    "    \n",
    "    \n",
    "    permutation = list(np.random.permutation(m))\n",
    "    shuffled_X = X[permutation,:,:,:]\n",
    "    shuffled_Y = Y[permutation,:]\n",
    "\n",
    "   \n",
    "    num_complete_minibatches = math.floor(m/mini_batch_size) # number of mini batches of size mini_batch_size in your partitionning\n",
    "    for k in range(0, num_complete_minibatches):\n",
    "        mini_batch_X = shuffled_X[k * mini_batch_size : k * mini_batch_size + mini_batch_size,:,:,:]\n",
    "        mini_batch_Y = shuffled_Y[k * mini_batch_size : k * mini_batch_size + mini_batch_size,:]\n",
    "        mini_batch = (mini_batch_X, mini_batch_Y)\n",
    "        mini_batches.append(mini_batch)\n",
    "    \n",
    "    # Handling the end case (last mini-batch < mini_batch_size)\n",
    "    if m % mini_batch_size != 0:\n",
    "        mini_batch_X = shuffled_X[num_complete_minibatches * mini_batch_size : m,:,:,:]\n",
    "        mini_batch_Y = shuffled_Y[num_complete_minibatches * mini_batch_size : m,:]\n",
    "        mini_batch = (mini_batch_X, mini_batch_Y)\n",
    "        mini_batches.append(mini_batch)\n",
    "    \n",
    "    return mini_batches"
   ]
  },
  {
   "cell_type": "code",
   "execution_count": 8,
   "metadata": {},
   "outputs": [],
   "source": [
    "def model(train_x, train_y, valid_x,valid_y, test_x, test_y, learning_rate = 0.0001, num_epochs = 100, minibatch_size = 16, print_cost = True):\n",
    "    \n",
    "    \n",
    "    ops.reset_default_graph()                         \n",
    "    (m, H, W, C) = train_x.shape             \n",
    "    n_y = train_y.shape[1]                            \n",
    "    train_losses = [] \n",
    "    \n",
    "    train_acc = []\n",
    "    valid_acc = []\n",
    "    test_acc  = []\n",
    "    weights= dict()\n",
    "    \n",
    "    cache_layers=dict()\n",
    "    \n",
    "    seed = 3  \n",
    "    X,Y = create_placeholder(H, W, C, n_y)\n",
    "    loss, fc4  = forward_propagation(X, Y, cache_layers)\n",
    "    \n",
    "    optimizer = tf.train.AdamOptimizer(learning_rate).minimize(loss)\n",
    "    \n",
    "    \n",
    "    # Initialize all the variables globally\n",
    "    init = tf.global_variables_initializer()\n",
    "     \n",
    "    # Start the session to compute the tensorflow graph\n",
    "    with tf.Session() as sess:\n",
    "        \n",
    "        # Run the initialization\n",
    "        sess.run(init)\n",
    "        \n",
    "        # training loop\n",
    "        for epoch in range(num_epochs):\n",
    "\n",
    "            minibatch_cost = 0\n",
    "            num_minibatches = int(m / minibatch_size) # number of minibatches of size minibatch_size in the train set\n",
    "            seed = seed + 1\n",
    "            minibatches = random_mini_batches(train_x, train_y, minibatch_size, seed)\n",
    "\n",
    "            for minibatch in minibatches:\n",
    "\n",
    "                # Select a minibatch\n",
    "                (minibatch_X, minibatch_Y) = minibatch\n",
    "                \n",
    "                # Run the session to execute the optimizer and the cost on minibatch\n",
    "                _ , temp_cost = sess.run([optimizer,loss], feed_dict={X: minibatch_X, Y: minibatch_Y})\n",
    "                \n",
    "                minibatch_cost += temp_cost / num_minibatches\n",
    "                \n",
    "\n",
    "            # Print the cost every epoch\n",
    "            if print_cost == True and epoch % 5 == 0:\n",
    "                print (\"Cost of training data after epoch %i: %f\" % (epoch, minibatch_cost))\n",
    "            if print_cost == True and epoch % 1 == 0:\n",
    "                train_losses.append(minibatch_cost)\n",
    "\n",
    "                \n",
    "        \n",
    "\n",
    "            # Calculate the correct predictions\n",
    "            predict_op = tf.argmax(fc4, 1)\n",
    "            correct_prediction = tf.equal(predict_op, tf.argmax(Y, 1))\n",
    "            # Calculate accuracy on the test set\n",
    "            accuracy = tf.reduce_mean(tf.cast(correct_prediction, \"float\"))\n",
    "           \n",
    "        \n",
    "            \n",
    "            train_accuracy = 0\n",
    "            valid_accuracy = 0\n",
    "            test_accuracy =  0\n",
    "            \n",
    "            #calculate training accuracy\n",
    "            for minibatch in minibatches:\n",
    "                (minibatch_X, minibatch_Y) = minibatch\n",
    "                temp_accuracy = accuracy.eval({X: minibatch_X, Y: minibatch_Y})\n",
    "                train_accuracy += temp_accuracy / num_minibatches\n",
    "            \n",
    "            if print_cost == True and epoch % 1 == 0:\n",
    "                train_acc.append(train_accuracy)\n",
    "       \n",
    "            #calculate training accuracy\n",
    "            valid_accuracy = accuracy.eval({X: valid_x, Y: valid_y})\n",
    "            if print_cost == True and epoch % 1 == 0:\n",
    "                valid_acc.append(valid_accuracy)\n",
    "                \n",
    "            #calculate training accuracy\n",
    "            test_accuracy = accuracy.eval({X: test_x, Y: test_y})\n",
    "            if print_cost == True and epoch % 1 == 0:\n",
    "                test_acc.append(test_accuracy)\n",
    "        \n",
    "        # extract trained weights and biases\n",
    "        W_conv1  = sess.run('W_conv1_tf:0')\n",
    "        W_conv2  = sess.run('W_conv2_tf:0')\n",
    "        W_conv3  = sess.run('W_conv3_tf:0')\n",
    "        W_fc1    = sess.run('W_fc1_tf:0')\n",
    "        W_output = sess.run('W_fc2_tf:0')\n",
    "        \n",
    "        b_conv1  = sess.run('b_conv1_tf:0')\n",
    "        b_conv2  = sess.run('b_conv2_tf:0')\n",
    "        b_conv3  = sess.run('b_conv3_tf:0')\n",
    "        b_fc1    = sess.run('b_fc1_tf:0')\n",
    "        b_output = sess.run('b_fc2_tf:0')\n",
    "        \n",
    "        weights['W_conv1']=W_conv1\n",
    "        weights['W_conv2']=W_conv2\n",
    "        weights['W_conv3']=W_conv3\n",
    "        weights['W_fc1']=W_fc1\n",
    "        weights['W_output']=W_output\n",
    "        \n",
    "        weights['b_conv1']=b_conv1\n",
    "        weights['b_conv2']=b_conv2\n",
    "        weights['b_conv3']=b_conv3\n",
    "        weights['b_fc1']=b_fc1\n",
    "        weights['b_output']=b_output\n",
    "        \n",
    "        #print accuracies\n",
    "        print(\"Train Accuracy:\", train_accuracy)\n",
    "        print(\"Validation Accuracy:\", valid_accuracy)\n",
    "        print(\"Test Accuracy:\", test_accuracy)\n",
    "        \n",
    "        #Visualize missclassified and correctly classified images\n",
    "        \n",
    "        pred_y= fc4.eval(feed_dict = {X:test_x})\n",
    "        y_valid_pred_label = np.argmax(pred_y,1)\n",
    "        y_valid_label = np.argmax(test_y,1)\n",
    "        y_val_false_index = []\n",
    "        y_val_true_index = []\n",
    "        \n",
    "       \n",
    "        \n",
    "        for i in range(y_valid_label.shape[0]):\n",
    "            if y_valid_pred_label[i] != y_valid_label[i]:\n",
    "                y_val_false_index.append(i)\n",
    "\n",
    "        print('# False predictions: ', len(y_val_false_index),'out of', len(test_y))\n",
    "        \n",
    "        plt.figure(figsize=(10,15))\n",
    "        for j in range(0,1):\n",
    "            for i in range(0,4):\n",
    "                if j*10+i<len(y_val_false_index):\n",
    "                    plt.subplot(1,4,j*10+i+1)\n",
    "                    plt.title('label:'+str(y_valid_label[y_val_false_index[j*10+i]])+'  pred:'+\n",
    "                               str(y_valid_pred_label[y_val_false_index[j*10+i]]))\n",
    "                    plt.imshow(test_x[y_val_false_index[j*10+i]].reshape(28,28),cmap='gray') \n",
    "                    plt.savefig('miss_classfied after adding L2')\n",
    "        \n",
    "        for k in range(y_valid_label.shape[0]):\n",
    "            if y_valid_pred_label[k] == y_valid_label[k]:\n",
    "                y_val_true_index.append(k)\n",
    "                \n",
    "        print('# True predictions: ', len(y_val_true_index),'out of', len(test_y))\n",
    "        \n",
    "        plt.figure(figsize=(10,15))\n",
    "        for j in range(0,1):\n",
    "            for i in range(0,4):\n",
    "                if j*10+i<len(y_val_false_index):\n",
    "                    plt.subplot(1,4,j*10+i+1)\n",
    "                    plt.title('label:'+str(y_valid_label[y_val_true_index[j*10+i]])+'  pred:'+str(y_valid_pred_label[y_val_true_index[j*10+i]]))\n",
    "                    plt.imshow(test_x[y_val_true_index[j*10+i]].reshape(28,28),cmap='gray') \n",
    "                    plt.savefig('Correct_classified after adding L2')\n",
    "        \n",
    "        \n",
    "        #print(\"Train Accuracy:\", len(train_acc))\n",
    "        #print(\"Validation Accuracy:\", len(valid_acc))\n",
    "        #print(\"Test Accuracy:\", len(test_acc))\n",
    "        \n",
    "        return train_acc, valid_acc, test_acc, train_losses,weights,fc4\n",
    "    "
   ]
  },
  {
   "cell_type": "code",
   "execution_count": 9,
   "metadata": {},
   "outputs": [
    {
     "name": "stdout",
     "output_type": "stream",
     "text": [
      "Cost of training data after epoch 0: 15.071299\n",
      "Cost of training data after epoch 5: 1.795478\n",
      "Cost of training data after epoch 10: 1.186528\n",
      "Cost of training data after epoch 15: 0.850991\n",
      "Cost of training data after epoch 20: 0.614345\n",
      "Cost of training data after epoch 25: 0.444088\n",
      "Cost of training data after epoch 30: 0.327491\n",
      "Cost of training data after epoch 35: 0.237287\n",
      "Cost of training data after epoch 40: 0.171738\n",
      "Cost of training data after epoch 45: 0.125879\n",
      "Cost of training data after epoch 50: 0.093148\n",
      "Cost of training data after epoch 55: 0.070949\n",
      "Cost of training data after epoch 60: 0.054540\n",
      "Cost of training data after epoch 65: 0.044589\n",
      "Cost of training data after epoch 70: 0.038621\n",
      "Cost of training data after epoch 75: 0.032319\n",
      "Cost of training data after epoch 80: 0.030366\n",
      "Cost of training data after epoch 85: 0.027191\n",
      "Cost of training data after epoch 90: 0.024265\n",
      "Cost of training data after epoch 95: 0.023876\n",
      "Train Accuracy: 0.9979799999999647\n",
      "Validation Accuracy: 0.9828\n",
      "Test Accuracy: 0.9886\n",
      "# False predictions:  114 out of 10000\n",
      "# True predictions:  9886 out of 10000\n"
     ]
    },
    {
     "data": {
      "image/png": "[encoded data removed]",
      "text/plain": [
       "<matplotlib.figure.Figure at 0x26dfe82a9b0>"
      ]
     },
     "metadata": {},
     "output_type": "display_data"
    },
    {
     "data": {
      "image/png": "[encoded data removed]",
      "text/plain": [
       "<matplotlib.figure.Figure at 0x26d43815f98>"
      ]
     },
     "metadata": {},
     "output_type": "display_data"
    }
   ],
   "source": [
    "train_acc,valid_acc,test_acc,train_losses,weights,fc4 = model(train_x, train_y, validation_x, validation_y, test_x, test_y)\n"
   ]
  },
  {
   "cell_type": "code",
   "execution_count": 10,
   "metadata": {},
   "outputs": [
    {
     "data": {
      "image/png": "[encoded data removed]",
      "text/plain": [
       "<matplotlib.figure.Figure at 0x26dfc5e6588>"
      ]
     },
     "metadata": {},
     "output_type": "display_data"
    }
   ],
   "source": [
    "# plot the loss\n",
    "plt.plot(np.squeeze(train_losses), 'g',label='Cross entropy')\n",
    "plt.ylabel('Loss')\n",
    "plt.xlabel('Iteration')\n",
    "plt.title(\"Learning Curve\")\n",
    "#plt.ylim(ymax = 28, ymin = 0.0001)\n",
    "plt.legend(loc='upper right')\n",
    "plt.savefig('Learning Curve after adding L2')\n",
    "plt.show() "
   ]
  },
  {
   "cell_type": "code",
   "execution_count": 11,
   "metadata": {},
   "outputs": [
    {
     "data": {
      "image/png": "[encoded data removed]",
      "text/plain": [
       "<matplotlib.figure.Figure at 0x26dfc5ed2e8>"
      ]
     },
     "metadata": {},
     "output_type": "display_data"
    }
   ],
   "source": [
    "plt.plot(np.arange(0,len(train_acc)), train_acc,'-b', label='Training Accuracy')\n",
    "plt.plot(np.arange(0,len(valid_acc)), valid_acc,'-g', label='Validation Accuracy')\n",
    "plt.plot(np.arange(0,len(test_acc)), test_acc,'-r', label='Test Accuracy')\n",
    "plt.title(\"Training Accuracy\")\n",
    "plt.legend(loc='lower right', frameon=False)\n",
    "plt.ylim(ymax = 1.00, ymin = 0.92)\n",
    "plt.ylabel('Accuracy Rate')\n",
    "plt.xlabel('Iteration')\n",
    "plt.savefig('Training Accuracy after adding L2')"
   ]
  },
  {
   "cell_type": "code",
   "execution_count": 12,
   "metadata": {},
   "outputs": [],
   "source": [
    "#plot distribution of weights and biases\n",
    "W_conv1 =weights['W_conv1']\n",
    "W_conv2 =weights['W_conv2']\n",
    "W_conv3 =weights['W_conv3']\n",
    "W_fc1   =weights['W_fc1']\n",
    "W_output=weights['W_output']\n",
    "        \n",
    "b_conv1 =weights['b_conv1']\n",
    "b_conv2 =weights['b_conv2']\n",
    "b_conv3 =weights['b_conv3']\n",
    "b_fc1   =weights['b_fc1']\n",
    "b_output=weights['b_output']\n"
   ]
  },
  {
   "cell_type": "code",
   "execution_count": 13,
   "metadata": {},
   "outputs": [
    {
     "data": {
      "image/png": "[encoded data removed]",
      "text/plain": [
       "<matplotlib.figure.Figure at 0x26dfe7eb1d0>"
      ]
     },
     "metadata": {},
     "output_type": "display_data"
    }
   ],
   "source": [
    "#plt.figure(figsize=(10, 5));\n",
    "#plt.subplot(1,2,1);\n",
    "#num_bins=10\n",
    "W_conv1=W_conv1.reshape((25, 32))\n",
    "plt.hist(W_conv1)\n",
    "plt.xlabel('Value')\n",
    "plt.ylabel('Number')\n",
    "plt.title('Histogram of Conv1')\n",
    "plt.savefig('Histogram of Conv1 after adding L2')"
   ]
  },
  {
   "cell_type": "code",
   "execution_count": 14,
   "metadata": {},
   "outputs": [
    {
     "data": {
      "image/png": "[encoded data removed]",
      "text/plain": [
       "<matplotlib.figure.Figure at 0x26dfbf959e8>"
      ]
     },
     "metadata": {},
     "output_type": "display_data"
    }
   ],
   "source": [
    "W_conv2=W_conv2.reshape((25, 1024))\n",
    "plt.hist(W_conv2)\n",
    "plt.xlabel('Value')\n",
    "plt.ylabel('Number')\n",
    "plt.title('Histogram of Conv2')\n",
    "plt.savefig('Histogram of Conv2 after adding L2')"
   ]
  },
  {
   "cell_type": "code",
   "execution_count": 15,
   "metadata": {},
   "outputs": [
    {
     "data": {
      "image/png": "[encoded data removed]",
      "text/plain": [
       "<matplotlib.figure.Figure at 0x26dfc3a0f60>"
      ]
     },
     "metadata": {},
     "output_type": "display_data"
    }
   ],
   "source": [
    "#plt.subplot(1,2,2)\n",
    "plt.hist(W_fc1)\n",
    "plt.xlabel('Value')\n",
    "plt.ylabel('Number')\n",
    "plt.title('Histogram of dense1')\n",
    "plt.savefig('Histogram of dense1 after adding L2')"
   ]
  },
  {
   "cell_type": "code",
   "execution_count": 16,
   "metadata": {},
   "outputs": [
    {
     "data": {
      "image/png": "[encoded data removed]",
      "text/plain": [
       "<matplotlib.figure.Figure at 0x26e2e2f3390>"
      ]
     },
     "metadata": {},
     "output_type": "display_data"
    }
   ],
   "source": [
    "#plt.subplot(1,2,2)\n",
    "plt.hist(W_output)\n",
    "plt.xlabel('Value')\n",
    "plt.ylabel('Number')\n",
    "plt.title('Histogram of output')\n",
    "plt.savefig('Histogram of output after adding L2')"
   ]
  },
  {
   "cell_type": "code",
   "execution_count": null,
   "metadata": {},
   "outputs": [],
   "source": [
    "#wb=tf.trainable_variables()\n"
   ]
  },
  {
   "cell_type": "code",
   "execution_count": null,
   "metadata": {},
   "outputs": [],
   "source": [
    "(m, H, W, C) = train_x.shape             \n",
    "n_y = train_y.shape[1] \n",
    "    \n",
    "X,Y = create_placeholder(H, W, C, n_y)\n",
    "loss, fc4  = forward_propagation(X, Y)\n",
    "\n",
    "with tf.Session() as sess:\n",
    "    init = tf.global_variables_initializer()\n",
    "    sess.run(init)\n",
    "    w=sess.run('h_conv1_tf:0')\n",
    "    #print(w)\n",
    "   "
   ]
  },
  {
   "cell_type": "code",
   "execution_count": null,
   "metadata": {},
   "outputs": [],
   "source": [
    " def getActivations(layer,stimuli):\n",
    "        units = sess.run(layer,feed_dict={X:np.reshape(stimuli,[1,784],order='F')})\n",
    "        plotNNFilter(units)\n",
    "    "
   ]
  },
  {
   "cell_type": "code",
   "execution_count": null,
   "metadata": {},
   "outputs": [],
   "source": [
    "def plotNNFilter(units):\n",
    "    filters = units.shape[3]\n",
    "    plt.figure(1, figsize=(20,20))\n",
    "    n_columns = 6\n",
    "    n_rows = math.ceil(filters / n_columns) + 1\n",
    "    for i in range(filters):\n",
    "        plt.subplot(n_rows, n_columns, i+1)\n",
    "        plt.title('Filter ' + str(i))\n",
    "        plt.imshow(units[0,:,:,i], interpolation=\"nearest\", cmap=\"gray\")"
   ]
  },
  {
   "cell_type": "code",
   "execution_count": null,
   "metadata": {},
   "outputs": [],
   "source": [
    "imageToUse = mnist.test.images[0]\n",
    "plt.imshow(np.reshape(imageToUse,[28,28]), interpolation=\"nearest\", cmap=\"gray\")"
   ]
  },
  {
   "cell_type": "code",
   "execution_count": null,
   "metadata": {},
   "outputs": [],
   "source": []
  }
 ],
 "metadata": {
  "kernelspec": {
   "display_name": "Python 3",
   "language": "python",
   "name": "python3"
  },
  "language_info": {
   "codemirror_mode": {
    "name": "ipython",
    "version": 3
   },
   "file_extension": ".py",
   "mimetype": "text/x-python",
   "name": "python",
   "nbconvert_exporter": "python",
   "pygments_lexer": "ipython3",
   "version": "3.6.4"
  }
 },
 "nbformat": 4,
 "nbformat_minor": 2
}

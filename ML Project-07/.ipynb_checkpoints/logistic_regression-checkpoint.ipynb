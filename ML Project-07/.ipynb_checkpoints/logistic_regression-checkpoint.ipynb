{
 "cells": [
  {
   "cell_type": "code",
   "execution_count": 22,
   "metadata": {
    "collapsed": true
   },
   "outputs": [],
   "source": [
    "import numpy as np\n",
    "from numpy.linalg import inv\n",
    "import math\n",
    "import matplotlib.pyplot as plt\n",
    "%matplotlib inline"
   ]
  },
  {
   "cell_type": "code",
   "execution_count": 23,
   "metadata": {
    "collapsed": true
   },
   "outputs": [],
   "source": [
    "def univariate(mean, std):\n",
    "    U = np.random.uniform(0.0, 1.0)\n",
    "    V = np.random.uniform(0.0, 1.0)\n",
    "    X = math.sqrt(-2*math.log(U))*math.cos(2*math.pi*V)\n",
    "    \n",
    "    X = X * math.sqrt(std) + mean\n",
    "    return X"
   ]
  },
  {
   "cell_type": "code",
   "execution_count": 24,
   "metadata": {
    "collapsed": true
   },
   "outputs": [],
   "source": [
    "def central_limit(mean,var):\n",
    "    \n",
    "    z = np.random.uniform(0,1,12)\n",
    "    nz = np.sum(z)-6\n",
    "\n",
    "    return mean+var*nz"
   ]
  },
  {
   "cell_type": "code",
   "execution_count": 25,
   "metadata": {
    "collapsed": true
   },
   "outputs": [],
   "source": [
    "def generate_data(n, mx1, vx1, my1, vy1, mx2, vx2, my2, vy2):\n",
    "    D1x = []\n",
    "    D1y = []\n",
    "    D2x = []\n",
    "    D2y = []\n",
    "    for i in range(n):\n",
    "        D1x.append([1,univariate(mx1, vx1),univariate(my1, vy1)])\n",
    "        D1y.append(0.0)\n",
    "        D2x.append([1,univariate(mx2, vx2),univariate(my2, vy2)])\n",
    "        D2y.append(1.0)\n",
    "    #print(D1x)\n",
    "    #print(D2x)\n",
    "    return D1x, D1y, D2x, D2y"
   ]
  },
  {
   "cell_type": "code",
   "execution_count": 26,
   "metadata": {
    "collapsed": true
   },
   "outputs": [],
   "source": [
    "def logistic_function(n, phi, w):\n",
    "    logi_func = []\n",
    "    for i in range(n):\n",
    "        logi_func.append(1/(1+math.exp((-1)*phi[i].dot(w)))) \n",
    "    logi_func = np.array(logi_func)\n",
    "    logi_func.reshape(n,1)\n",
    "    return logi_func"
   ]
  },
  {
   "cell_type": "code",
   "execution_count": 27,
   "metadata": {
    "collapsed": true
   },
   "outputs": [],
   "source": [
    "def gradient_descent(n, D1x, D1y, D2x, D2y):\n",
    "    x = []\n",
    "    y = []\n",
    "    x = D1x+D2x\n",
    "    y = D1y+D2y \n",
    "    x = np.array(x)\n",
    "    y = np.array(y)\n",
    "    y.reshape(n,1)\n",
    "    \n",
    "    basis_num = 3\n",
    "    w = np.array([0.2,0.5,0.3])\n",
    "    w.reshape(basis_num,1)\n",
    "    w_n = np.array([[0] for i in range(basis_num)])    \n",
    "    lr = 0.1\n",
    "    while True:\n",
    "        # w_new = w + gradient\n",
    "        logi_func = logistic_function(n, x, w)\n",
    "        w_n = w + lr*x.T.dot(y-logi_func)\n",
    "\n",
    "        if abs((w_n - w).mean()) < 0.001:\n",
    "            break\n",
    "        w = w_n\n",
    "        lr *= 0.9\n",
    "    print(w)\n",
    "    return n,logi_func"
   ]
  },
  {
   "cell_type": "code",
   "execution_count": 28,
   "metadata": {
    "collapsed": true
   },
   "outputs": [],
   "source": [
    "def newtons_method(n, D1x, D1y, D2x, D2y):\n",
    "    x = []\n",
    "    y = []\n",
    "    x = D1x+D2x\n",
    "    y = D1y+D2y \n",
    "    x = np.array(x)\n",
    "    y = np.array(y)\n",
    "    y.reshape(n,1)\n",
    "    \n",
    "    basis_num = 3\n",
    "    w = np.array([0.2,0.5,0.3])\n",
    "    w.reshape(basis_num,1)    \n",
    "    w_n = np.array([[0] for i in range(basis_num)])\n",
    "    hessian_singular = False\n",
    "    while True:\n",
    "        # w1 = w0 + hessian.inv * gradient\n",
    "        try:\n",
    "            logi_func = logistic_function(n, x, w)\n",
    "            gradient = x.T.dot(y-logi_func)\n",
    "            D = [[0.0 for i in range(n)] for j in range(n)]\n",
    "            for i in range(n):\n",
    "                D[i][i] = logi_func[i]*(1 - logi_func[i])\n",
    "            D = np.array(D)\n",
    "            hessian = x.T.dot(D.dot(x))\n",
    "            # if hessian matrix can't inverse, break the loop\n",
    "            if np.linalg.det(hessian) == 0:\n",
    "                print('Hessian is singular, please use gradient descent.')\n",
    "                hessian_singular = True\n",
    "                break\n",
    "            else:\n",
    "                w_n = w.reshape(basis_num,1) + (inv(hessian).dot(gradient)).reshape(basis_num,1)\n",
    "            # converge\n",
    "            if abs((w_n - w).mean()) < 0.001:\n",
    "                break\n",
    "            w = w_n\n",
    "            \n",
    "        except:\n",
    "            break\n",
    "    print(w)\n",
    "    if hessian_singular == False:\n",
    "        return n,logi_func"
   ]
  },
  {
   "cell_type": "code",
   "execution_count": 29,
   "metadata": {
    "collapsed": true
   },
   "outputs": [],
   "source": [
    "def predict(n,x,y,logi_func):\n",
    "    #prediction\n",
    "    pred = [0 for i in range(n)]\n",
    "    for i in range(n):\n",
    "        if logi_func[i] > 0.5:\n",
    "            pred[i] = 1\n",
    "        else:\n",
    "            pred[i] = 0\n",
    "    #print(np.array(pred))    \n",
    "    tp,fp,tn,fn = 0,0,0,0\n",
    "    \n",
    "    for i in range(n):\n",
    "        if y[i] == 0:\n",
    "            if pred[i] == 0:\n",
    "                tn += 1\n",
    "            else:\n",
    "                fp += 1\n",
    "        else:\n",
    "            if pred[i] == 0:\n",
    "                fn += 1\n",
    "            else:\n",
    "                tp += 1\n",
    "    confusion_mat=np.array([[tp,fp],[fn,tn]])\n",
    "    sensitivity=tp/(tp+fn)\n",
    "    specificity=fp/(fp+tn)\n",
    "    \n",
    "    \n",
    "    print('confusion matrix:')\n",
    "    print(confusion_mat)\n",
    "    print('sensitivity: ',sensitivity)\n",
    "    print('specificity: ',specificity)\n",
    "    \n",
    "    return pred"
   ]
  },
  {
   "cell_type": "code",
   "execution_count": 30,
   "metadata": {},
   "outputs": [
    {
     "name": "stdout",
     "output_type": "stream",
     "text": [
      "Gradient descent:\n",
      "[-6.93361097  1.71410744  1.72221904]\n",
      "confusion matrix:\n",
      "[[38  5]\n",
      " [12 45]]\n",
      "sensitivity:  0.76\n",
      "specificity:  0.1\n",
      "\n",
      "Newton's method:\n",
      "[[-2.73870847]\n",
      " [ 0.72035837]\n",
      " [ 0.68405567]]\n",
      "confusion matrix:\n",
      "[[39  7]\n",
      " [11 43]]\n",
      "sensitivity:  0.78\n",
      "specificity:  0.14\n"
     ]
    }
   ],
   "source": [
    "if __name__ == \"__main__\":    \n",
    "    # n(number of data point, D) \n",
    "    # mx1, vx1, my1, vy1, mx2, vx2, my2, vy2 (m: mean, v: variance) \n",
    "    n = 50\n",
    "    total_data = 2*n\n",
    "    mx1, my1, vx1, vy1 = 1,  1,  2, 2\n",
    "    mx2, my2, vx2, vy2 = 3, 3, 4, 4\n",
    "    D1x, D1y, D2x, D2y = generate_data(n, mx1, vx1, my1, vy1, mx2, vx2, my2, vy2)\n",
    "    x = D1x+D2x\n",
    "    y = D1y+D2y\n",
    "    \n",
    "    print(\"Gradient descent:\")\n",
    "    n,logi_func = gradient_descent(total_data, D1x, D1y, D2x, D2y)\n",
    "    pred1 = predict(n,x,y,logi_func)\n",
    "    \n",
    "    print(\"\\nNewton's method:\")\n",
    "    n,logi_func = newtons_method(total_data, D1x, D1y, D2x, D2y)\n",
    "    pred2 = predict(n,x,y,logi_func)\n",
    "    \n",
    "    "
   ]
  },
  {
   "cell_type": "code",
   "execution_count": 31,
   "metadata": {},
   "outputs": [
    {
     "data": {
      "image/png": "[encoded data removed]",
      "text/plain": [
       "<matplotlib.figure.Figure at 0x27023fff780>"
      ]
     },
     "metadata": {},
     "output_type": "display_data"
    }
   ],
   "source": [
    "#plot ground truth \n",
    "C0_X = []\n",
    "C0_Y = []\n",
    "    \n",
    "C1_X = []\n",
    "C1_Y = []\n",
    "    \n",
    "for item1 in D1x:\n",
    "    C0_X.append(item1[1])\n",
    "    C0_Y.append(item1[2])\n",
    "        \n",
    "for item2 in D2x:\n",
    "    C1_X.append(item2[1])\n",
    "    C1_Y.append(item2[2])\n",
    "        \n",
    "        \n",
    "f = plt.figure(figsize=(8,6))\n",
    "f.tight_layout()\n",
    "ax1 = f.add_subplot(131)\n",
    "ax1.scatter(C0_X,C0_Y, color='red')\n",
    "ax1.scatter(C1_X,C1_Y, color='blue')\n",
    "ax1.set_title('Ground Truth')\n",
    "\n",
    "#plot gradient descent \n",
    "C0_X_P1 = []\n",
    "C0_Y_P1 = []\n",
    "    \n",
    "C1_X_P1 = []\n",
    "C1_Y_P1 = []\n",
    "\n",
    "for indx in range(len(x)):\n",
    "   \n",
    "    if pred1[indx]==0:\n",
    "        item1=x[indx]\n",
    "        C0_X_P1.append(item1[1])\n",
    "        C0_Y_P1.append(item1[2])\n",
    "    elif pred1[indx]==1:\n",
    "        item2=x[indx]\n",
    "        C1_X_P1.append(item2[1])\n",
    "        C1_Y_P1.append(item2[2])\n",
    "ax2 = f.add_subplot(132)\n",
    "ax2.scatter(C0_X_P1,C0_Y_P1, color='red')\n",
    "ax2.scatter(C1_X_P1,C1_Y_P1, color='blue')\n",
    "ax2.set_title('Gradient descent')\n",
    "\n",
    "#plot Newton's method \n",
    "C0_X_P2 = []\n",
    "C0_Y_P2 = []\n",
    "    \n",
    "C1_X_P2 = []\n",
    "C1_Y_P2 = []\n",
    "\n",
    "for indx in range(len(x)):\n",
    "   \n",
    "    if pred2[indx]==0:\n",
    "        item1=x[indx]\n",
    "        C0_X_P2.append(item1[1])\n",
    "        C0_Y_P2.append(item1[2])\n",
    "    elif pred2[indx]==1:\n",
    "        item2=x[indx]\n",
    "        C1_X_P2.append(item2[1])\n",
    "        C1_Y_P2.append(item2[2])\n",
    "ax3 = f.add_subplot(133)\n",
    "ax3.scatter(C0_X_P2,C0_Y_P2, color='red')\n",
    "ax3.scatter(C1_X_P2,C1_Y_P2, color='blue')\n",
    "_=ax3.set_title('Newtons method')"
   ]
  },
  {
   "cell_type": "code",
   "execution_count": null,
   "metadata": {
    "collapsed": true
   },
   "outputs": [],
   "source": []
  },
  {
   "cell_type": "code",
   "execution_count": null,
   "metadata": {
    "collapsed": true
   },
   "outputs": [],
   "source": []
  }
 ],
 "metadata": {
  "kernelspec": {
   "display_name": "Python 3",
   "language": "python",
   "name": "python3"
  },
  "language_info": {
   "codemirror_mode": {
    "name": "ipython",
    "version": 3
   },
   "file_extension": ".py",
   "mimetype": "text/x-python",
   "name": "python",
   "nbconvert_exporter": "python",
   "pygments_lexer": "ipython3",
   "version": "3.6.3"
  }
 },
 "nbformat": 4,
 "nbformat_minor": 2
}

{
 "cells": [
  {
   "cell_type": "code",
   "execution_count": 1,
   "metadata": {},
   "outputs": [
    {
     "name": "stderr",
     "output_type": "stream",
     "text": [
      "C:\\Users\\Rashid Ali\\Anaconda3\\lib\\site-packages\\h5py\\__init__.py:36: FutureWarning: Conversion of the second argument of issubdtype from `float` to `np.floating` is deprecated. In future, it will be treated as `np.float64 == np.dtype(float).type`.\n",
      "  from ._conv import register_converters as _register_converters\n"
     ]
    }
   ],
   "source": [
    "import tensorflow as tf\n",
    "tf.enable_eager_execution()\n",
    "\n",
    "import numpy as np\n",
    "import io\n",
    "import os\n",
    "import time"
   ]
  },
  {
   "cell_type": "code",
   "execution_count": 25,
   "metadata": {},
   "outputs": [],
   "source": [
    "data_url = 'shakespeare_train.txt'\n",
    "with io.open(data_url, 'r', encoding='utf8') as f:\n",
    "    text = f.read()\n",
    "    \n",
    "# The unique characters in the file\n",
    "vocab = sorted(set(text))\n",
    "\n",
    "#construct character dictionary \n",
    "#vocab_to_int = {c:i for i,c in enumerate(vocab)}\n",
    "#int_to_vocab =  dict(enumerate(vocab))\n",
    "\n",
    "char2idx = {u:i for i, u in enumerate(vocab)}\n",
    "idx2char = np.array(vocab)\n",
    "\n",
    "# Encode data, shape = [number of characters]\n",
    "train_data = np.array([char2idx[c] for c in text], dtype=np.int32)\n"
   ]
  },
  {
   "cell_type": "code",
   "execution_count": 28,
   "metadata": {},
   "outputs": [
    {
     "data": {
      "text/plain": [
       "'O'"
      ]
     },
     "execution_count": 28,
     "metadata": {},
     "output_type": "execute_result"
    }
   ],
   "source": [
    "idx2char[27]"
   ]
  },
  {
   "cell_type": "code",
   "execution_count": 13,
   "metadata": {},
   "outputs": [
    {
     "data": {
      "text/plain": [
       "array([24, 48, 13, ..., 55, 18, 12])"
      ]
     },
     "execution_count": 13,
     "metadata": {},
     "output_type": "execute_result"
    }
   ],
   "source": [
    "train_data"
   ]
  },
  {
   "cell_type": "code",
   "execution_count": 3,
   "metadata": {},
   "outputs": [
    {
     "name": "stdout",
     "output_type": "stream",
     "text": [
      "{\n",
      "'h' :  0,\n",
      "'D' :  1,\n",
      "'y' :  2,\n",
      "'e' :  3,\n",
      "'g' :  4,\n",
      "'s' :  5,\n",
      "'u' :  6,\n",
      "'Q' :  7,\n",
      "'B' :  8,\n",
      "'a' :  9,\n",
      "'S' : 10,\n",
      "'U' : 11,\n",
      "'w' : 12,\n",
      "'[' : 13,\n",
      "'J' : 14,\n",
      "'!' : 15,\n",
      "'3' : 16,\n",
      "'X' : 17,\n",
      "'I' : 18,\n",
      "'K' : 19,\n",
      "...\n",
      "\n"
     ]
    }
   ],
   "source": [
    "print('{')\n",
    "for char,_ in zip(char2idx, range(20)):\n",
    "    print('{:4s}:{:3d},'.format(repr(char), char2idx[char]))\n",
    "print('...\\n')"
   ]
  },
  {
   "cell_type": "code",
   "execution_count": 6,
   "metadata": {},
   "outputs": [
    {
     "name": "stdout",
     "output_type": "stream",
     "text": [
      "'First Citizen' ----  characters mapped to int ----> [27 39 47  5 63 34 35 39 63 39 25  3 22]\n"
     ]
    }
   ],
   "source": [
    "#show how the first 13 characters from the text are mapped to integers\n",
    "print('{} ----  characters mapped to int ----> {}'. format(repr(text[:13]),train_data[:13]))"
   ]
  },
  {
   "cell_type": "code",
   "execution_count": 30,
   "metadata": {},
   "outputs": [
    {
     "name": "stdout",
     "output_type": "stream",
     "text": [
      "F\n",
      "i\n",
      "r\n",
      "s\n",
      "t\n"
     ]
    }
   ],
   "source": [
    "# The maximum length sentence we want for a single input in characters\n",
    "seq_length = 100\n",
    "examples_per_epoch = len(text)//seq_length\n",
    "\n",
    "# Create training examples / targets\n",
    "char_dataset = tf.data.Dataset.from_tensor_slices(train_data)\n",
    "\n",
    "for i in char_dataset.take(5):\n",
    "    \n",
    "    #print('PRINT index', int(i))\n",
    "    print(idx2char[i]) "
   ]
  },
  {
   "cell_type": "code",
   "execution_count": 29,
   "metadata": {},
   "outputs": [
    {
     "name": "stdout",
     "output_type": "stream",
     "text": [
      "O\n"
     ]
    }
   ],
   "source": [
    "print(idx2char[27]) "
   ]
  },
  {
   "cell_type": "code",
   "execution_count": null,
   "metadata": {},
   "outputs": [],
   "source": []
  }
 ],
 "metadata": {
  "kernelspec": {
   "display_name": "Python 3",
   "language": "python",
   "name": "python3"
  },
  "language_info": {
   "codemirror_mode": {
    "name": "ipython",
    "version": 3
   },
   "file_extension": ".py",
   "mimetype": "text/x-python",
   "name": "python",
   "nbconvert_exporter": "python",
   "pygments_lexer": "ipython3",
   "version": "3.6.4"
  }
 },
 "nbformat": 4,
 "nbformat_minor": 2
}

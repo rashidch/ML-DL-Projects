{
 "cells": [
  {
   "cell_type": "code",
   "execution_count": 1,
   "metadata": {},
   "outputs": [],
   "source": [
    "from math import exp, sqrt\n",
    "import matplotlib.pyplot as plt\n",
    "import random\n",
    "import sys\n",
    "import pandas as pd\n",
    "import numpy as np\n",
    "import os,errno\n",
    "from mpl_toolkits.mplot3d import Axes3D\n",
    "from scipy.sparse import csgraph\n",
    "from numpy import linalg as LA"
   ]
  },
  {
   "cell_type": "markdown",
   "metadata": {},
   "source": [
    "# K-means Clustering "
   ]
  },
  {
   "cell_type": "code",
   "execution_count": 33,
   "metadata": {},
   "outputs": [],
   "source": [
    "def centroid_init_random(data,kCluster,num_data):\n",
    "    \n",
    "    clusters = [[[None] for i in range(0)] for j in range(kCluster)]\n",
    "    \n",
    "    #initail the cluster centroids with random samples from data\n",
    "    mu = data[random.sample(range(0,num_data-1), kCluster)]\n",
    "    \n",
    "    # randomly assign data to clusters  \n",
    "    for i in range(num_data):\n",
    "        k= random.randint(0,kCluster-1)\n",
    "        clusters[k].append(data[i])\n",
    "        \n",
    "    return mu, clusters"
   ]
  },
  {
   "cell_type": "code",
   "execution_count": 34,
   "metadata": {},
   "outputs": [],
   "source": [
    "def centroid_init_random_cluster_mean(data,kCluster,num_data):\n",
    "    \n",
    "    #initail the cluster centroids with random samples from data\n",
    "    mu = data[random.sample(range(0,num_data-1), kCluster)]\n",
    "    \n",
    "    clusters = [[[None] for i in range(0)] for j in range(kCluster)]\n",
    "    \n",
    "    # randomly assign data to clusters and calculte another mu  \n",
    "    for i in range(num_data):\n",
    "        k= random.randint(0,kCluster-1)\n",
    "        clusters[k].append(data[i])\n",
    "    #calculate mu from randomly assigned clusters\n",
    "    for k in range(kCluster): \n",
    "        mu[k] = np.mean(clusters[k],axis=0)\n",
    "        \n",
    "    return mu, clusters"
   ]
  },
  {
   "cell_type": "code",
   "execution_count": 38,
   "metadata": {},
   "outputs": [],
   "source": [
    "def centroid_init_kmeans_plusplus(data, kCluster,num_data):\n",
    "    \n",
    "    mu = data[random.sample(range(0,num_data-1),1)]\n",
    "    mu= mu.tolist()\n",
    "    while len(mu)<kCluster:\n",
    "        dist_center = np.array([min([np.linalg.norm(x-c)**2 for c in mu]) for x in data])\n",
    "        probs = dist_center/dist_center.sum()\n",
    "        cumprobs = probs.cumsum()\n",
    "        r = random.random()\n",
    "        ind = np.where(cumprobs >= r)[0][0]\n",
    "        mu.append(data[ind].tolist())\n",
    "        \n",
    "    clusters = [[[None] for i in range(0)] for j in range(kCluster)]\n",
    "    # randomly assign data to clusters  \n",
    "    for i in range(num_data):\n",
    "        k= random.randint(0,kCluster-1)\n",
    "        clusters[k].append(data[i])\n",
    "    \n",
    "    return np.array(mu), clusters"
   ]
  },
  {
   "cell_type": "code",
   "execution_count": 44,
   "metadata": {
    "scrolled": true
   },
   "outputs": [],
   "source": [
    "def kmeans(data, kCluster,num_data, init_flag=0):\n",
    "    \n",
    "    if init_flag==0:\n",
    "        mu,clusters = centroid_init_random(data,kCluster,num_data)\n",
    "    elif init_flag==1:\n",
    "        mu,clusters = centroid_init_random_cluster_mean(data,kCluster,num_data)\n",
    "    elif init_flag==2:\n",
    "        mu,clusters= centroid_init_kmeans_plusplus(data, kCluster,num_data)\n",
    "        \n",
    "                                             \n",
    "                                             \n",
    "    #set path for saving the plots after each iteration    \n",
    "    iteration = 0\n",
    "    path =\"plots/Kmeans_on_\"+dataset_name+\"_dataset\"+\"_\"+str(kCluster)+\"clusters\"\n",
    "    #make directory using above path\n",
    "    try:\n",
    "        os.makedirs(path)\n",
    "    except OSError as e:\n",
    "        if e.errno != errno.EEXIST:\n",
    "            raise\n",
    "    # intialize an array of colors for coloring different clusters with different colors\n",
    "    color = [\"b\",\"g\",\"m\",\"r\",\"k\"]\n",
    "    for it in range (100) :\n",
    "    \n",
    "        \n",
    "        #plot the clusters with different color and show centroid each iteration \n",
    "        for k in range (kCluster):\n",
    "            plt.plot(np.array(clusters[k])[:,0],np.array(clusters[k])[:,1],color[k]+\"o\", alpha = 0.8)\n",
    "            plt.plot(mu[k,0],mu[k,1],\"k*\", markersize=12, alpha = 1)\n",
    "\n",
    "        clusters = [[[None] for i in range(0)] for j in range(kCluster)]\n",
    "\n",
    "        for i in range (num_data) :\n",
    "            min_dist = 1000000\n",
    "            nearestK = - 1\n",
    "            for k in range (kCluster) :\n",
    "                    temp_dist = np.linalg.norm( data[i] - mu[k])\n",
    "                    if (temp_dist < min_dist) :\n",
    "                        min_dist = temp_dist\n",
    "                        nearestK = k\n",
    "                \n",
    "            clusters[nearestK].append (data[i])\n",
    "\n",
    "    \n",
    "        plt.title(\"Kmeans\"+\" iter \" +str(it))\n",
    "        plt.axis('equal')\n",
    "        plt.savefig(path+\"/Kmeans_\"+ str(it)+\".png\", bbox_inches=\"tight\")\n",
    "        plt.clf()\n",
    "        newMu = np.zeros((kCluster,2))\n",
    "        # calculate mean\n",
    "        for k in range (kCluster) :\n",
    "            newMu[k] = np.mean(clusters[k],axis =0) \n",
    "        if ( sqrt(np.linalg.norm(newMu-mu)) < 0.00001):\n",
    "            iteration = it\n",
    "            break\n",
    "        mu = newMu.copy()\n",
    "    \n",
    "    print (\"converged after \", iteration, \" interation(s)\")\n"
   ]
  },
  {
   "cell_type": "code",
   "execution_count": 50,
   "metadata": {},
   "outputs": [
    {
     "name": "stdout",
     "output_type": "stream",
     "text": [
      "Enter file name:circle.txt\n",
      "Enter the K number of clusters :4\n",
      "converged after  13  interation(s)\n"
     ]
    },
    {
     "data": {
      "text/plain": [
       "<matplotlib.figure.Figure at 0x19225423438>"
      ]
     },
     "metadata": {},
     "output_type": "display_data"
    }
   ],
   "source": [
    "fileName = input(\"Enter file name:\")\n",
    "dataset_name= fileName[:4]\n",
    "kCluster = int(input('Enter the K number of clusters :'))\n",
    "data = pd.read_csv(fileName,header=None)\n",
    "data = np.array(data)\n",
    "num_data = data.shape[0]\n",
    "kmeans(data, kCluster,num_data, 2)"
   ]
  },
  {
   "cell_type": "code",
   "execution_count": null,
   "metadata": {},
   "outputs": [],
   "source": []
  }
 ],
 "metadata": {
  "kernelspec": {
   "display_name": "Python 3",
   "language": "python",
   "name": "python3"
  },
  "language_info": {
   "codemirror_mode": {
    "name": "ipython",
    "version": 3
   },
   "file_extension": ".py",
   "mimetype": "text/x-python",
   "name": "python",
   "nbconvert_exporter": "python",
   "pygments_lexer": "ipython3",
   "version": "3.6.4"
  }
 },
 "nbformat": 4,
 "nbformat_minor": 2
}

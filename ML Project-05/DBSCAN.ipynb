{
 "cells": [
  {
   "cell_type": "code",
   "execution_count": 2,
   "metadata": {},
   "outputs": [],
   "source": [
    "from math import exp, sqrt\n",
    "import matplotlib.pyplot as plt\n",
    "import random\n",
    "import sys\n",
    "import pandas as pd\n",
    "import numpy as np\n",
    "import os,errno\n",
    "from mpl_toolkits.mplot3d import Axes3D\n",
    "from scipy.sparse import csgraph\n",
    "from numpy import linalg as LA"
   ]
  },
  {
   "cell_type": "code",
   "execution_count": 33,
   "metadata": {},
   "outputs": [],
   "source": [
    "def DBSCAN(data, dataset_name, eps, MinPts):\n",
    "    \n",
    "    clusters_data = [0]*len(data)\n",
    "\n",
    "    # C is the ID of the current cluster.    \n",
    "    C = 0\n",
    "    \n",
    "    for pid in range(0, len(data)):\n",
    "        \n",
    "        if not (clusters_data[pid] == 0):\n",
    "            continue\n",
    "        \n",
    "        NeighborPts = find_neighbors(data, pid, eps)\n",
    "        \n",
    "        if len(NeighborPts) < MinPts:\n",
    "            clusters_data[pid] = -1\n",
    "   \n",
    "        else: \n",
    "            C += 1\n",
    "            Clusterize_data(data, clusters_data, pid, NeighborPts, C, eps, MinPts,dataset_name)  \n",
    "            \n",
    "    print(\"All data points have been processed\")"
   ]
  },
  {
   "cell_type": "code",
   "execution_count": 34,
   "metadata": {},
   "outputs": [],
   "source": [
    "def Clusterize_data(data, labels, Pts_index, NeighborPts, C, eps, MinPts,dataset_name):\n",
    "    \n",
    "    # set path for saving the plots after each iteration    \n",
    "\n",
    "    path =\"plots/DBSCAN_on_\"+dataset_name+\"_dataset_\"+str(Pts_index)\n",
    "    #make directory using above path\n",
    "    try:\n",
    "        os.makedirs(path)\n",
    "    except OSError as e:\n",
    "        if e.errno != errno.EEXIST:\n",
    "            raise\n",
    "    \n",
    "    # Assign the cluster label to the seed point.\n",
    "    labels[Pts_index] = C\n",
    "    i = 0\n",
    "    while i < len(NeighborPts):    \n",
    "                \n",
    "        Pts_idx = NeighborPts[i]\n",
    "        if labels[Pts_idx] == -1:\n",
    "           labels[Pts_idx] = C\n",
    "    \n",
    "        elif labels[Pts_idx] == 0:\n",
    "            \n",
    "            labels[Pts_idx] = C\n",
    "            PnNeighborPts = find_neighbors(data,Pts_idx, eps)\n",
    "            if len(PnNeighborPts) >= MinPts:\n",
    "                NeighborPts = NeighborPts + PnNeighborPts\n",
    "                \n",
    "                      \n",
    "        #save figure after 1000 iterations\n",
    "        if i%1000==0:\n",
    "            it=0\n",
    "            plt.scatter(data[:,0],data[:,1],c=labels)\n",
    "            plt.title(\"DBSCAN on \"+dataset_name)\n",
    "            plt.axis('equal')\n",
    "            plt.savefig(path+\"/DBSCAN_\"+ str(i)+\".png\", bbox_inches=\"tight\")\n",
    "            plt.clf()\n",
    "            it +=1\n",
    "            \n",
    "        i += 1        "
   ]
  },
  {
   "cell_type": "code",
   "execution_count": 35,
   "metadata": {},
   "outputs": [],
   "source": [
    "def find_neighbors(dtat, P, eps):\n",
    "    \n",
    "    neighbors = []\n",
    "    \n",
    "    # For each point in the dataset...\n",
    "    for Pn in range(0, len(data)):\n",
    "        \n",
    "        # If the distance is below the threshold, add it to the neighbors list.\n",
    "        if np.linalg.norm(data[P] - data[Pn]) < eps:\n",
    "            neighbors.append(Pn)\n",
    "            \n",
    "    return neighbors"
   ]
  },
  {
   "cell_type": "code",
   "execution_count": 32,
   "metadata": {},
   "outputs": [
    {
     "name": "stdout",
     "output_type": "stream",
     "text": [
      "Enter file name:moon.txt\n",
      "All data points have been processed\n"
     ]
    },
    {
     "data": {
      "text/plain": [
       "<matplotlib.figure.Figure at 0x17a79a34390>"
      ]
     },
     "metadata": {},
     "output_type": "display_data"
    }
   ],
   "source": [
    "fileName = input(\"Enter file name:\")\n",
    "dataset_name= fileName[:4]\n",
    "data = pd.read_csv(fileName,header=None)\n",
    "data = np.array(data)\n",
    "dataset_name\n",
    "_=DBSCAN(data,dataset_name, eps=0.3 ,MinPts=50)"
   ]
  },
  {
   "cell_type": "code",
   "execution_count": null,
   "metadata": {},
   "outputs": [],
   "source": []
  }
 ],
 "metadata": {
  "kernelspec": {
   "display_name": "Python 3",
   "language": "python",
   "name": "python3"
  },
  "language_info": {
   "codemirror_mode": {
    "name": "ipython",
    "version": 3
   },
   "file_extension": ".py",
   "mimetype": "text/x-python",
   "name": "python",
   "nbconvert_exporter": "python",
   "pygments_lexer": "ipython3",
   "version": "3.6.4"
  }
 },
 "nbformat": 4,
 "nbformat_minor": 2
}

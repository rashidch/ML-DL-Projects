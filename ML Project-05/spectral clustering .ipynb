{
 "cells": [
  {
   "cell_type": "code",
   "execution_count": 1,
   "metadata": {},
   "outputs": [],
   "source": [
    "from math import exp, sqrt\n",
    "import matplotlib.pyplot as plt\n",
    "import random\n",
    "import sys\n",
    "import pandas as pd\n",
    "import numpy as np\n",
    "import os,errno\n",
    "from mpl_toolkits.mplot3d import Axes3D\n",
    "from scipy.sparse import csgraph\n",
    "from numpy import linalg as LA"
   ]
  },
  {
   "cell_type": "code",
   "execution_count": 2,
   "metadata": {},
   "outputs": [],
   "source": [
    "def RBF_kernel(gamma,A,B) :\n",
    "    diff = np.linalg.norm(A-B)\n",
    "    d = np.exp(-(diff)/(2*gamma**2))\n",
    "    return d\n",
    "\n",
    "def laplacian(num_data,X):\n",
    "    gamma = 0.1\n",
    "    print (\"Computing Graph Laplacian\")\n",
    "    W = np.zeros((num_data,num_data))\n",
    "    for i in range(0,num_data):\n",
    "        for j in range(i+1, num_data,1):\n",
    "            W[i,j] = RBF_kernel(gamma,X[i], X[j])\n",
    "            W[j,i] = W[i,j] \n",
    "    \n",
    "    D = np.zeros((num_data,num_data))\n",
    "    for i in range(num_data):\n",
    "        D[i,i] = sum(W[i])\n",
    "        \n",
    "    #ratio cut\n",
    "    L = D -  W\n",
    "    \n",
    "    return L"
   ]
  },
  {
   "cell_type": "code",
   "execution_count": 42,
   "metadata": {},
   "outputs": [],
   "source": [
    "def spectral_clustering(data,K,num_data):\n",
    "    \n",
    "    color = [\"b\",\"g\",\"m\",\"r\",\"k\"]\n",
    "    \n",
    "    L=laplacian(num_data,data)\n",
    "\n",
    "    #calculating eigenValues, eigenVectors\n",
    "    eigenValues, eigenVectors = np.linalg.eig(L)\n",
    "    \n",
    "    #the first K value\n",
    "    smallestEigenValue =  np.argsort(eigenValues.real)\n",
    "    SpecSpace =np.zeros((num_data,0))\n",
    "\n",
    "    for i in range(0,K,1):\n",
    "            SpecCoor = (np.array(eigenVectors[:,smallestEigenValue[i]]))\n",
    "            SpecCoor = np.reshape(SpecCoor,(num_data,1))\n",
    "            SpecSpace = np.concatenate((SpecSpace, SpecCoor), axis=1)\n",
    "    \n",
    "    print(SpecSpace)\n",
    "    print(SpecSpace.shape)\n",
    "\n",
    "\n",
    "    #random k means\n",
    "    #Randomly select K points in the new data space as the centroids\n",
    "    mu =  SpecSpace [random.sample(range(0, num_data), K)]\n",
    "\n",
    "\n",
    "    # kmeans\n",
    "    iteration = 0\n",
    "    path =\"plots/SpectCluster_\"+ dataset_name +\"_\"+str(K)+\"cluster\"\n",
    "    try:\n",
    "        os.makedirs(path)\n",
    "    except OSError as e:\n",
    "        if e.errno != errno.EEXIST:\n",
    "            raise\n",
    "    for it in range (100) :\n",
    "    \n",
    "        #reset for the next iteration\n",
    "        clusterOriginalData = [[[None] for i in range(0)] for j in range(K)]\n",
    "        clusterSpecSpaceData = [[[None] for i in range(0)] for j in range(K)]\n",
    "\n",
    "        for i in range (num_data) :\n",
    "            min_dist = 10000000\n",
    "            nearestK = - 1\n",
    "            for k in range (K) :\n",
    "                    temp_dist = sqrt(np.linalg.norm(SpecSpace[i]-mu[k]))\n",
    "                    if (temp_dist < min_dist) :\n",
    "                        min_dist = temp_dist\n",
    "                        nearestK = k\n",
    "                \n",
    "            clusterOriginalData[nearestK].append (data[i])\n",
    "            clusterSpecSpaceData[nearestK].append (SpecSpace[i])\n",
    "\n",
    "        # calculate mean\n",
    "   \n",
    "        for k in range (K):\n",
    "            plt.plot(np.array(clusterOriginalData[k])[:,0],np.array(clusterOriginalData[k])[:,1],color[k]+\"o\", alpha = 0.8)\n",
    "\n",
    "      \n",
    "        plt.title(dataset_name +\" iter \" +str(it))\n",
    "        plt.axis('equal')\n",
    "        plt.savefig(path+\"/SpectCluster_\"+ dataset_name +\"_\"+ str(it)+\".png\", bbodata_inches=\"tight\")\n",
    "    \n",
    "        for k in range (K): \n",
    "            plt.plot(np.array(clusterSpecSpaceData[k])[:,0], color[k]+\"o\", alpha = 0.8) \n",
    "            #plt.plot(np.array(clusterSpecSpaceData[k])[:,1],color[k]+\"o\", alpha = 0.8) \n",
    "        plt.title(dataset_name +\" iter \" +str(it))\n",
    "        \n",
    "        plt.savefig(path+\"/SpectCluster_SpecSpace\"+ dataset_name +\"_\"+ str(it)+\".png\", bbodata_inches=\"tight\") \n",
    "        plt.clf()\n",
    "        \n",
    "        for k in range (K): \n",
    "            #plt.plot(np.array(clusterSpecSpaceData[k])[:,0], color[k]+\"o\", alpha = 0.8) \n",
    "            plt.plot(np.array(clusterSpecSpaceData[k])[:,1],color[k]+\"o\", alpha = 0.8) \n",
    "        plt.title(dataset_name +\" iter \" +str(it))\n",
    "        \n",
    "        plt.savefig(path+\"/SpectCluster_SpecSpace2\"+ dataset_name +\"_\"+ str(it)+\".png\", bbodata_inches=\"tight\") \n",
    "        plt.clf()\n",
    "\n",
    "        new_mu = np.zeros((K,K))\n",
    "    \n",
    "        for k in range (K) :\n",
    "            new_mu[k] = np.mean(clusterSpecSpaceData[k],axis =0)\n",
    "        if ( sqrt(np.linalg.norm(new_mu-mu)) < 0.00001):\n",
    "            iteration = it\n",
    "            break\n",
    "        mu = new_mu.copy()\n",
    "\n",
    "        plt.clf()\n",
    "    \n",
    "    print (\"converged after \", iteration, \" interation(s)\")"
   ]
  },
  {
   "cell_type": "code",
   "execution_count": 43,
   "metadata": {},
   "outputs": [
    {
     "name": "stdout",
     "output_type": "stream",
     "text": [
      "Enter file name:moon.txt\n",
      "Enter the K number of clusters :2\n",
      "Computing Graph Laplacian\n",
      "[[ 0.02581989  0.02582136]\n",
      " [ 0.02581989  0.02581803]\n",
      " [ 0.02581989 -0.0258196 ]\n",
      " ...\n",
      " [ 0.02581989 -0.02582008]\n",
      " [ 0.02581989  0.02582067]\n",
      " [ 0.02581989  0.02582135]]\n",
      "(1500, 2)\n",
      "converged after  2  interation(s)\n"
     ]
    },
    {
     "data": {
      "text/plain": [
       "<matplotlib.figure.Figure at 0x2b537a7da20>"
      ]
     },
     "metadata": {},
     "output_type": "display_data"
    }
   ],
   "source": [
    "fileName = input(\"Enter file name:\")\n",
    "dataset_name= fileName[:4]\n",
    "kCluster = int(input('Enter the K number of clusters :'))\n",
    "data = pd.read_csv(fileName,header=None)\n",
    "data = np.array(data)\n",
    "num_data = data.shape[0]\n",
    "strName= dataset_name\n",
    "np.random.shuffle(data)\n",
    "_=spectral_clustering(data,kCluster,num_data)"
   ]
  },
  {
   "cell_type": "code",
   "execution_count": 39,
   "metadata": {},
   "outputs": [
    {
     "data": {
      "text/plain": [
       "array([], shape=(1500, 0), dtype=float64)"
      ]
     },
     "execution_count": 39,
     "metadata": {},
     "output_type": "execute_result"
    }
   ],
   "source": [
    "np.zeros((num_data,0))"
   ]
  },
  {
   "cell_type": "code",
   "execution_count": null,
   "metadata": {},
   "outputs": [],
   "source": []
  }
 ],
 "metadata": {
  "kernelspec": {
   "display_name": "Python 3",
   "language": "python",
   "name": "python3"
  },
  "language_info": {
   "codemirror_mode": {
    "name": "ipython",
    "version": 3
   },
   "file_extension": ".py",
   "mimetype": "text/x-python",
   "name": "python",
   "nbconvert_exporter": "python",
   "pygments_lexer": "ipython3",
   "version": "3.6.4"
  }
 },
 "nbformat": 4,
 "nbformat_minor": 2
}

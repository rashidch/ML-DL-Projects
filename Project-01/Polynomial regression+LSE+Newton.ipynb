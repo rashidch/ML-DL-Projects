{
 "cells": [
  {
   "cell_type": "code",
   "execution_count": 1,
   "metadata": {
    "collapsed": true
   },
   "outputs": [],
   "source": [
    "import numpy as np\n",
    "import matplotlib.pyplot as plt\n",
    "from collections import OrderedDict\n",
    "%matplotlib inline"
   ]
  },
  {
   "cell_type": "code",
   "execution_count": 2,
   "metadata": {
    "collapsed": true
   },
   "outputs": [],
   "source": [
    "def generate_data(init, end, num_points, plot=1):\n",
    "    \"\"\"\n",
    "    \n",
    "    x_pts : 1-d array, shape = [num_points,]     \n",
    "    y_pts : 1-d array, shape = [num_points,]\n",
    "\n",
    "    \"\"\"\n",
    "    #declare a list of coefficients \n",
    "    coeff=[5,1,1]\n",
    "    noise=2\n",
    "    # generate x_coordinate of line\n",
    "    x = np.arange(init,end,(end-init)/num_points)\n",
    "    line = coeff[0]\n",
    "    #generate y_coordinates of line\n",
    "    for idx in np.arange(1, len(coeff)):\n",
    "        line += coeff[idx]*x**idx\n",
    "        if noise>0:\n",
    "            y= np.random.normal(-(10**noise), 10**noise, len(x))+line\n",
    "        else: y= line\n",
    "    if plot==1:\n",
    "        plt.figure(figsize=(10,6))\n",
    "        plt.scatter(x, y, color='r')\n",
    "        plt.xlabel('x')\n",
    "        plt.ylabel('y')\n",
    "        \n",
    "    return x, y"
   ]
  },
  {
   "cell_type": "code",
   "execution_count": 3,
   "metadata": {},
   "outputs": [
    {
     "data": {
      "image/png": "[encoded data removed]",
      "text/plain": [
       "<matplotlib.figure.Figure at 0x24274b5d320>"
      ]
     },
     "metadata": {},
     "output_type": "display_data"
    }
   ],
   "source": [
    "x,y=generate_data(0,50,100)"
   ]
  },
  {
   "cell_type": "code",
   "execution_count": 4,
   "metadata": {
    "collapsed": true
   },
   "outputs": [],
   "source": [
    "def hypothesis(x, theta):\n",
    "    \"\"\"\n",
    "    h(x) = theta_0*(x_1**0) + theta_1*(x_1**1) + ...+ theta_n*(x_1 ** n)\n",
    "    \n",
    "    \"\"\"\n",
    "    h = theta[0]\n",
    "    for i in np.arange(1,len(theta)):\n",
    "        h+= theta[i]*x**i\n",
    "    \n",
    "    return h"
   ]
  },
  {
   "cell_type": "code",
   "execution_count": 5,
   "metadata": {
    "collapsed": true
   },
   "outputs": [],
   "source": [
    "# Calculate inverse of matrix using Doolittle’s LU Decomposition Method\n",
    "\n",
    "def swapRows( M,i,j):\n",
    "    \"\"\"\n",
    "    Swaping:\n",
    "    ----------\n",
    "    swapRows(M,i,j).\n",
    "    Swaps rows i and j of a vector or matrix [v].\n",
    "        \n",
    "    \"\"\"\n",
    "    if len(M.shape) == 1:\n",
    "        M[i],M[j] = M[j],M[i]\n",
    "    else:\n",
    "        M[[i,j],:] = M[[j,i],:]\n",
    "        \n",
    "def swapCols(M,i,j):\n",
    "    \"\"\"\n",
    "    Swaping:\n",
    "    ----------\n",
    "    swapCols(M,i,j).\n",
    "    Swaps columns of matrix [M].\n",
    "        \n",
    "    \"\"\"\n",
    "    M[:,[i,j]] = M[:,[j,i]]\n",
    "    \n",
    "def LUdecomp(a,tol=1.0e-9):\n",
    "    n = len(a)\n",
    "    seq = np.array(range(n))\n",
    "    \n",
    "    # Set up scale factors\n",
    "    s = np.zeros((n))\n",
    "    for i in range(n):\n",
    "        s[i] = max(abs(a[i,:]))\n",
    "        \n",
    "    for k in range(0,n-1):\n",
    "        # Row interchange, if needed\n",
    "        p = np.argmax(np.abs(a[k:n,k])/s[k:n]) + k\n",
    "        if abs(a[p,k]) < tol: print('Matrix is singular')\n",
    "        if p != k:\n",
    "            swapRows(s,k,p)\n",
    "            swapRows(a,k,p)\n",
    "            swapRows(seq,k,p)\n",
    "        # Elimination\n",
    "        for i in range(k+1,n):\n",
    "            if a[i,k] != 0.0:\n",
    "                lam = a[i,k]/a[k,k]\n",
    "                a[i,k+1:n] = a[i,k+1:n] - lam*a[k,k+1:n]\n",
    "                a[i,k] = lam\n",
    "    return a, seq\n",
    "\n",
    "\n",
    "def LUsolve(a,b,seq):\n",
    "    \"\"\"\n",
    "    Solve Linear equations\n",
    "    -------------\n",
    "    x = LUsolve(a,b)\n",
    "    Solution phase: solves [L][U]{x} = {b}\n",
    "        \n",
    "    \"\"\"\n",
    "    n = len(a)\n",
    "    # Rearrange constant vector; store it in [x]\n",
    "    x = b.copy()\n",
    "    for i in range(n):\n",
    "        #print(seq[i])\n",
    "        x[i] = b[seq[i]]\n",
    "    # Solution\n",
    "    for k in range(1,n):\n",
    "        x[k] = x[k] - np.dot(a[k,0:k],x[0:k])\n",
    "    x[n-1] = x[n-1]/a[n-1,n-1]\n",
    "    for k in range(n-2,-1,-1):\n",
    "        x[k] = (x[k] - np.dot(a[k,k+1:n],x[k+1:n]))/a[k,k]\n",
    "    return x\n",
    "    \n",
    "def matInv(a):\n",
    "    \"\"\"\n",
    "    Calacute inverse of matrix a:\n",
    "    ----------------------------\n",
    "    input matrix:a\n",
    "    retrun: aInv\n",
    "        \n",
    "    \"\"\"\n",
    "    n = len(a[0])\n",
    "    aInv = np.identity(n)\n",
    "    a,seq = LUdecomp(a)\n",
    "    for i in range(n):\n",
    "        aInv[:,i] = LUsolve(a,aInv[:,i],seq)\n",
    "    return aInv\n"
   ]
  },
  {
   "cell_type": "code",
   "execution_count": 6,
   "metadata": {
    "collapsed": true
   },
   "outputs": [],
   "source": [
    "def calculate_error(theta, x, y):\n",
    "        \n",
    "        m = len(y)  \n",
    "        h = hypothesis(x, theta)\n",
    "        errors = h-y\n",
    "        \n",
    "        return (1/(2*m))*np.sum(errors**2) \n",
    "    "
   ]
  },
  {
   "cell_type": "code",
   "execution_count": 7,
   "metadata": {
    "collapsed": true
   },
   "outputs": [],
   "source": [
    "def print_line(theta):\n",
    "    \n",
    "    fit_line=''\n",
    "    fit_line = fit_line+str(theta[0])\n",
    "    for i in np.arange(1, len(theta)): \n",
    "            \n",
    "        fit_line = fit_line+' + ' + str(theta[i]) + r'x^' + str(i)  \n",
    "        \n",
    "    print(\"Fitting Line::::\",fit_line)"
   ]
  },
  {
   "cell_type": "code",
   "execution_count": 8,
   "metadata": {
    "collapsed": true
   },
   "outputs": [],
   "source": [
    "#fit curve using normal equation method\n",
    "\n",
    "def fit_NormalEq(lamda, order, x,y):\n",
    "        \n",
    "    \"\"\"\n",
    "    \n",
    "    Fit theta to the training data to the model of the form:\n",
    "        h(x) = theta_0*(x_1**0) + theta_1*(x_1**1) + ...+ theta_n*(x_1 ** n)\n",
    "        \n",
    "    \"\"\"\n",
    "    d = {}\n",
    "    d['x' + str(0)] = np.ones([1,len(x)])[0]    \n",
    "    \n",
    "    for i in np.arange(1, order+1):                \n",
    "        d['x' + str(i)] = x ** (i)        \n",
    "        \n",
    "    d = OrderedDict(sorted(d.items(), key=lambda t: t[0]))\n",
    "    X = np.column_stack(d.values())  \n",
    "    print('X matrix dimension', X.shape)\n",
    "    I = np.eye(order+1)*lamda*order\n",
    "    \n",
    "    theta = np.matmul(np.matmul(matInv(np.matmul(np.transpose(X),X)+I), np.transpose(X)), y)\n",
    "\n",
    "               \n",
    "    return theta\n",
    "    "
   ]
  },
  {
   "cell_type": "code",
   "execution_count": 9,
   "metadata": {
    "collapsed": true
   },
   "outputs": [],
   "source": [
    "def fit_newtonMT(lamda,order,x,y):\n",
    "    \n",
    "    theta = np.ones(order+1)\n",
    "    \n",
    "    d={}\n",
    "    d['x'+str(0)]= np.ones([1,len(x)])[0]\n",
    "    \n",
    "    for i in range(1,order+1):\n",
    "        \n",
    "        d['x'+str(i)]= x**i\n",
    "        \n",
    "    d= OrderedDict(sorted(d.items(),key=lambda t :t[0]))\n",
    "    X = np.column_stack(d.values())  \n",
    "    I = np.eye(order+1)*lamda\n",
    "    \n",
    "    while True:\n",
    "        a = matInv(np.matmul(np.transpose(X),X) + I)\n",
    "        b = np.matmul(np.matmul(np.transpose(X),X),theta) \n",
    "        c = np.matmul(np.transpose(X),y)\n",
    "        d = np.matmul(I,theta)\n",
    "        \n",
    "        new_theta = theta - np.matmul(a,(b - c + d))\n",
    "        \n",
    "        if abs(calculate_error(new_theta, x, y) - calculate_error(theta, x, y)) < 0.0001:\n",
    "            break\n",
    "        theta = new_theta\n",
    "        \n",
    "    return new_theta"
   ]
  },
  {
   "cell_type": "code",
   "execution_count": 10,
   "metadata": {
    "collapsed": true
   },
   "outputs": [],
   "source": [
    "def plot_predictedPolyLine(theta,x,y):\n",
    "        \n",
    "    plt.figure(figsize=(10,6))\n",
    "    plt.scatter(x, y, s = 30, c = 'r') \n",
    "    line = theta[0] #y-intercept \n",
    "    label_holder = []\n",
    "    label_holder.append('%.*f' % (2, theta[0]))\n",
    "    \n",
    "    for i in np.arange(1, len(theta)):            \n",
    "        line += theta[i] * x ** i \n",
    "        label_holder.append(' + ' +'%.*f' % (2, theta[i]) + r'$x^' + str(i) + '$') \n",
    "        \n",
    "    plt.plot(x, line, label = ''.join(label_holder), color='g')        \n",
    "    plt.title('Polynomial Fit: Order ' + str(len(theta)-1))\n",
    "    plt.xlabel('x')\n",
    "    plt.ylabel('y') \n",
    "    plt.legend(loc = 'best')   "
   ]
  },
  {
   "cell_type": "code",
   "execution_count": 17,
   "metadata": {},
   "outputs": [
    {
     "name": "stdout",
     "output_type": "stream",
     "text": [
      "*******Demo of Polynomial Regression********\n",
      "  \n",
      "Input the number of polynomial bases:  3\n",
      "Input the lambda value for regularization:  2000\n",
      "------------------------\n",
      "  \n",
      "Newton Method:\n",
      "Fitting Line:::: -1.0746515226140465 + -5.016256642486181x^1 + 1.0690839474559475x^2 + 0.000527393044792399x^3\n",
      " \n",
      "Prediction error: 5248.363742597884\n",
      "------------------------\n"
     ]
    }
   ],
   "source": [
    "print(\"*******Demo of Polynomial Regression********\")\n",
    "print(\"  \")\n",
    "order = input(\"Input the number of polynomial bases:  \")\n",
    "order = int(order)\n",
    "lamda = input(\"Input the lambda value for regularization:  \")\n",
    "lamda = float(lamda)\n",
    "print(\"------------------------\")\n",
    "print(\"  \")\n",
    "theta = fit_newtonMT(lamda,order,x,y)\n",
    "error = calculate_error(theta,x,y)\n",
    "print(\"Newton Method:\")\n",
    "print_line(theta)\n",
    "print(\" \")\n",
    "print(\"Prediction error:\", error)\n",
    "print(\"------------------------\")"
   ]
  },
  {
   "cell_type": "code",
   "execution_count": 16,
   "metadata": {},
   "outputs": [
    {
     "data": {
      "image/png": "[encoded data removed]",
      "text/plain": [
       "<matplotlib.figure.Figure at 0x242750b1588>"
      ]
     },
     "metadata": {},
     "output_type": "display_data"
    }
   ],
   "source": [
    "plot_predictedPolyLine(theta,x,y)"
   ]
  },
  {
   "cell_type": "code",
   "execution_count": 13,
   "metadata": {},
   "outputs": [
    {
     "name": "stdout",
     "output_type": "stream",
     "text": [
      "*******Demo of Polynomial Regression********\n",
      "  \n",
      "Input the number of polynomial bases:  3\n",
      "Input the lambda value for regularization:  1000\n",
      "------------------------\n",
      "  \n",
      "X matrix dimension (100, 4)\n",
      "LSE:\n",
      "Fitting Line:::: -0.7724202120420749 + -3.7000393735023778x^1 + 0.9885462946497136x^2 + 0.001667270622619397x^3\n",
      " \n",
      "Prediction error: 5396.244300121354\n",
      "------------------------\n"
     ]
    }
   ],
   "source": [
    "print(\"*******Demo of Polynomial Regression********\")\n",
    "print(\"  \")\n",
    "order = input(\"Input the number of polynomial bases:  \")\n",
    "order = int(order)\n",
    "lamda = input(\"Input the lambda value for regularization:  \")\n",
    "lamda = float(lamda)\n",
    "print(\"------------------------\")\n",
    "print(\"  \")\n",
    "theta = fit_NormalEq(lamda,order,x,y)\n",
    "error = calculate_error(theta,x,y)\n",
    "print(\"LSE:\")\n",
    "print_line(theta)\n",
    "print(\" \")\n",
    "print(\"Prediction error:\", error)\n",
    "print(\"------------------------\")"
   ]
  },
  {
   "cell_type": "code",
   "execution_count": 14,
   "metadata": {},
   "outputs": [
    {
     "data": {
      "image/png": "[encoded data removed]",
      "text/plain": [
       "<matplotlib.figure.Figure at 0x24274de14e0>"
      ]
     },
     "metadata": {},
     "output_type": "display_data"
    }
   ],
   "source": [
    "plot_predictedPolyLine(theta,x,y)"
   ]
  },
  {
   "cell_type": "code",
   "execution_count": null,
   "metadata": {
    "collapsed": true
   },
   "outputs": [],
   "source": []
  }
 ],
 "metadata": {
  "kernelspec": {
   "display_name": "Python 3",
   "language": "python",
   "name": "python3"
  },
  "language_info": {
   "codemirror_mode": {
    "name": "ipython",
    "version": 3
   },
   "file_extension": ".py",
   "mimetype": "text/x-python",
   "name": "python",
   "nbconvert_exporter": "python",
   "pygments_lexer": "ipython3",
   "version": "3.6.3"
  }
 },
 "nbformat": 4,
 "nbformat_minor": 2
}
